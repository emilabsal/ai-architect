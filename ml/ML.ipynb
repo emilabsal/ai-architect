{
 "cells": [
  {
   "cell_type": "markdown",
   "metadata": {
    "execution": {
     "iopub.execute_input": "2023-09-14T12:14:12.158806Z",
     "iopub.status.busy": "2023-09-14T12:14:12.158093Z",
     "iopub.status.idle": "2023-09-14T12:14:12.161872Z",
     "shell.execute_reply": "2023-09-14T12:14:12.161004Z",
     "shell.execute_reply.started": "2023-09-14T12:14:12.158786Z"
    },
    "tags": []
   },
   "source": [
    "# ML Homework 1"
   ]
  },
  {
   "cell_type": "markdown",
   "metadata": {},
   "source": [
    "## Imports"
   ]
  },
  {
   "cell_type": "code",
   "execution_count": 4,
   "metadata": {
    "execution": {
     "iopub.execute_input": "2023-09-14T12:13:33.517458Z",
     "iopub.status.busy": "2023-09-14T12:13:33.517240Z",
     "iopub.status.idle": "2023-09-14T12:13:33.572264Z",
     "shell.execute_reply": "2023-09-14T12:13:33.570391Z",
     "shell.execute_reply.started": "2023-09-14T12:13:33.517438Z"
    },
    "id": "eAvHazgiB6Xh",
    "tags": []
   },
   "outputs": [],
   "source": [
    "import pandas as pd\n",
    "import numpy as np\n",
    "import matplotlib.pyplot as plt\n",
    "import seaborn as sns\n"
   ]
  },
  {
   "cell_type": "code",
   "execution_count": 5,
   "metadata": {
    "execution": {
     "iopub.execute_input": "2023-09-14T12:13:34.514326Z",
     "iopub.status.busy": "2023-09-14T12:13:34.513722Z",
     "iopub.status.idle": "2023-09-14T12:13:34.603278Z",
     "shell.execute_reply": "2023-09-14T12:13:34.602656Z",
     "shell.execute_reply.started": "2023-09-14T12:13:34.514273Z"
    },
    "id": "snlBuCG7CPcf",
    "tags": []
   },
   "outputs": [],
   "source": [
    "from sklearn.preprocessing import LabelEncoder\n",
    "from sklearn.model_selection import train_test_split\n",
    "from sklearn.linear_model import LogisticRegression\n",
    "from sklearn.metrics import accuracy_score\n",
    "from catboost import CatBoostClassifier\n"
   ]
  },
  {
   "cell_type": "markdown",
   "metadata": {},
   "source": [
    "## Generate data"
   ]
  },
  {
   "cell_type": "markdown",
   "metadata": {},
   "source": [
    "### Create DataFrame from randomized data"
   ]
  },
  {
   "cell_type": "code",
   "execution_count": 8,
   "metadata": {
    "execution": {
     "iopub.execute_input": "2023-09-14T12:16:02.015235Z",
     "iopub.status.busy": "2023-09-14T12:16:02.014623Z",
     "iopub.status.idle": "2023-09-14T12:16:02.021052Z",
     "shell.execute_reply": "2023-09-14T12:16:02.019786Z",
     "shell.execute_reply.started": "2023-09-14T12:16:02.015179Z"
    },
    "id": "0RptQl29Ddk4",
    "tags": []
   },
   "outputs": [],
   "source": [
    "scores = ['A', 'B', 'C']"
   ]
  },
  {
   "cell_type": "code",
   "execution_count": 9,
   "metadata": {
    "execution": {
     "iopub.execute_input": "2023-09-14T12:16:02.662060Z",
     "iopub.status.busy": "2023-09-14T12:16:02.660829Z",
     "iopub.status.idle": "2023-09-14T12:16:02.755644Z",
     "shell.execute_reply": "2023-09-14T12:16:02.754828Z",
     "shell.execute_reply.started": "2023-09-14T12:16:02.661944Z"
    },
    "id": "h8FdCxbQDMv3",
    "tags": []
   },
   "outputs": [],
   "source": [
    "def get_random_data(score):\n",
    "    min_ = 1\n",
    "    if score == 'A':\n",
    "        min_ = 50\n",
    "    elif score == 'B':\n",
    "        min_ = 30\n",
    "\n",
    "    return {\n",
    "        \"math\": np.random.randint(min_, 100),\n",
    "        \"physics\": np.random.randint(min_, 100),\n",
    "        \"sport\": np.random.randint(min_, 100),\n",
    "        \"programming\": np.random.randint(min_, 100),\n",
    "        \"english\": np.random.randint(min_, 100),\n",
    "        \"history\": np.random.randint(min_, 100),\n",
    "        \"score\": score\n",
    "    }\n",
    "\n",
    "\n",
    "data = [get_random_data(np.random.choice(scores)) for _ in range(2000)]\n",
    "df = pd.DataFrame(data)"
   ]
  },
  {
   "cell_type": "code",
   "execution_count": 10,
   "metadata": {
    "execution": {
     "iopub.execute_input": "2023-09-14T12:16:03.748523Z",
     "iopub.status.busy": "2023-09-14T12:16:03.747657Z",
     "iopub.status.idle": "2023-09-14T12:16:03.791391Z",
     "shell.execute_reply": "2023-09-14T12:16:03.790641Z",
     "shell.execute_reply.started": "2023-09-14T12:16:03.748434Z"
    },
    "id": "EXMltcziEgJo",
    "tags": []
   },
   "outputs": [
    {
     "data": {
      "text/html": [
       "<div>\n",
       "<style scoped>\n",
       "    .dataframe tbody tr th:only-of-type {\n",
       "        vertical-align: middle;\n",
       "    }\n",
       "\n",
       "    .dataframe tbody tr th {\n",
       "        vertical-align: top;\n",
       "    }\n",
       "\n",
       "    .dataframe thead th {\n",
       "        text-align: right;\n",
       "    }\n",
       "</style>\n",
       "<table border=\"1\" class=\"dataframe\">\n",
       "  <thead>\n",
       "    <tr style=\"text-align: right;\">\n",
       "      <th></th>\n",
       "      <th>math</th>\n",
       "      <th>physics</th>\n",
       "      <th>sport</th>\n",
       "      <th>programming</th>\n",
       "      <th>english</th>\n",
       "      <th>history</th>\n",
       "      <th>score</th>\n",
       "    </tr>\n",
       "  </thead>\n",
       "  <tbody>\n",
       "    <tr>\n",
       "      <th>0</th>\n",
       "      <td>89</td>\n",
       "      <td>47</td>\n",
       "      <td>84</td>\n",
       "      <td>47</td>\n",
       "      <td>59</td>\n",
       "      <td>37</td>\n",
       "      <td>B</td>\n",
       "    </tr>\n",
       "    <tr>\n",
       "      <th>1</th>\n",
       "      <td>77</td>\n",
       "      <td>56</td>\n",
       "      <td>77</td>\n",
       "      <td>77</td>\n",
       "      <td>46</td>\n",
       "      <td>61</td>\n",
       "      <td>C</td>\n",
       "    </tr>\n",
       "    <tr>\n",
       "      <th>2</th>\n",
       "      <td>84</td>\n",
       "      <td>68</td>\n",
       "      <td>98</td>\n",
       "      <td>90</td>\n",
       "      <td>87</td>\n",
       "      <td>92</td>\n",
       "      <td>A</td>\n",
       "    </tr>\n",
       "    <tr>\n",
       "      <th>3</th>\n",
       "      <td>79</td>\n",
       "      <td>83</td>\n",
       "      <td>58</td>\n",
       "      <td>93</td>\n",
       "      <td>89</td>\n",
       "      <td>86</td>\n",
       "      <td>A</td>\n",
       "    </tr>\n",
       "    <tr>\n",
       "      <th>4</th>\n",
       "      <td>66</td>\n",
       "      <td>73</td>\n",
       "      <td>33</td>\n",
       "      <td>48</td>\n",
       "      <td>58</td>\n",
       "      <td>86</td>\n",
       "      <td>B</td>\n",
       "    </tr>\n",
       "  </tbody>\n",
       "</table>\n",
       "</div>"
      ],
      "text/plain": [
       "   math  physics  sport  programming  english  history score\n",
       "0    89       47     84           47       59       37     B\n",
       "1    77       56     77           77       46       61     C\n",
       "2    84       68     98           90       87       92     A\n",
       "3    79       83     58           93       89       86     A\n",
       "4    66       73     33           48       58       86     B"
      ]
     },
     "execution_count": 10,
     "metadata": {},
     "output_type": "execute_result"
    }
   ],
   "source": [
    "df.head()"
   ]
  },
  {
   "cell_type": "markdown",
   "metadata": {},
   "source": [
    "### Encoding target feature"
   ]
  },
  {
   "cell_type": "code",
   "execution_count": 11,
   "metadata": {
    "execution": {
     "iopub.execute_input": "2023-09-14T12:17:09.944751Z",
     "iopub.status.busy": "2023-09-14T12:17:09.944461Z",
     "iopub.status.idle": "2023-09-14T12:17:09.950124Z",
     "shell.execute_reply": "2023-09-14T12:17:09.949129Z",
     "shell.execute_reply.started": "2023-09-14T12:17:09.944735Z"
    },
    "id": "Fw2VKnwngLQW",
    "tags": []
   },
   "outputs": [],
   "source": [
    "label_enc = LabelEncoder()\n",
    "df['score'] = label_enc.fit_transform(df['score'])"
   ]
  },
  {
   "cell_type": "code",
   "execution_count": 12,
   "metadata": {
    "execution": {
     "iopub.execute_input": "2023-09-14T12:17:16.974627Z",
     "iopub.status.busy": "2023-09-14T12:17:16.974334Z",
     "iopub.status.idle": "2023-09-14T12:17:16.984116Z",
     "shell.execute_reply": "2023-09-14T12:17:16.982437Z",
     "shell.execute_reply.started": "2023-09-14T12:17:16.974599Z"
    },
    "id": "Pz_3praKgObQ",
    "tags": []
   },
   "outputs": [
    {
     "data": {
      "text/html": [
       "<div>\n",
       "<style scoped>\n",
       "    .dataframe tbody tr th:only-of-type {\n",
       "        vertical-align: middle;\n",
       "    }\n",
       "\n",
       "    .dataframe tbody tr th {\n",
       "        vertical-align: top;\n",
       "    }\n",
       "\n",
       "    .dataframe thead th {\n",
       "        text-align: right;\n",
       "    }\n",
       "</style>\n",
       "<table border=\"1\" class=\"dataframe\">\n",
       "  <thead>\n",
       "    <tr style=\"text-align: right;\">\n",
       "      <th></th>\n",
       "      <th>math</th>\n",
       "      <th>physics</th>\n",
       "      <th>sport</th>\n",
       "      <th>programming</th>\n",
       "      <th>english</th>\n",
       "      <th>history</th>\n",
       "      <th>score</th>\n",
       "    </tr>\n",
       "  </thead>\n",
       "  <tbody>\n",
       "    <tr>\n",
       "      <th>0</th>\n",
       "      <td>89</td>\n",
       "      <td>47</td>\n",
       "      <td>84</td>\n",
       "      <td>47</td>\n",
       "      <td>59</td>\n",
       "      <td>37</td>\n",
       "      <td>1</td>\n",
       "    </tr>\n",
       "    <tr>\n",
       "      <th>1</th>\n",
       "      <td>77</td>\n",
       "      <td>56</td>\n",
       "      <td>77</td>\n",
       "      <td>77</td>\n",
       "      <td>46</td>\n",
       "      <td>61</td>\n",
       "      <td>2</td>\n",
       "    </tr>\n",
       "    <tr>\n",
       "      <th>2</th>\n",
       "      <td>84</td>\n",
       "      <td>68</td>\n",
       "      <td>98</td>\n",
       "      <td>90</td>\n",
       "      <td>87</td>\n",
       "      <td>92</td>\n",
       "      <td>0</td>\n",
       "    </tr>\n",
       "    <tr>\n",
       "      <th>3</th>\n",
       "      <td>79</td>\n",
       "      <td>83</td>\n",
       "      <td>58</td>\n",
       "      <td>93</td>\n",
       "      <td>89</td>\n",
       "      <td>86</td>\n",
       "      <td>0</td>\n",
       "    </tr>\n",
       "    <tr>\n",
       "      <th>4</th>\n",
       "      <td>66</td>\n",
       "      <td>73</td>\n",
       "      <td>33</td>\n",
       "      <td>48</td>\n",
       "      <td>58</td>\n",
       "      <td>86</td>\n",
       "      <td>1</td>\n",
       "    </tr>\n",
       "  </tbody>\n",
       "</table>\n",
       "</div>"
      ],
      "text/plain": [
       "   math  physics  sport  programming  english  history  score\n",
       "0    89       47     84           47       59       37      1\n",
       "1    77       56     77           77       46       61      2\n",
       "2    84       68     98           90       87       92      0\n",
       "3    79       83     58           93       89       86      0\n",
       "4    66       73     33           48       58       86      1"
      ]
     },
     "execution_count": 12,
     "metadata": {},
     "output_type": "execute_result"
    }
   ],
   "source": [
    "df.head()"
   ]
  },
  {
   "cell_type": "markdown",
   "metadata": {},
   "source": [
    "## Splitting data"
   ]
  },
  {
   "cell_type": "code",
   "execution_count": 13,
   "metadata": {
    "execution": {
     "iopub.execute_input": "2023-09-14T12:17:43.958426Z",
     "iopub.status.busy": "2023-09-14T12:17:43.957903Z",
     "iopub.status.idle": "2023-09-14T12:17:43.973038Z",
     "shell.execute_reply": "2023-09-14T12:17:43.972017Z",
     "shell.execute_reply.started": "2023-09-14T12:17:43.958384Z"
    },
    "id": "zSjQACXchus7",
    "tags": []
   },
   "outputs": [],
   "source": [
    "y = df['score']\n",
    "X = df.drop('score', axis=1)"
   ]
  },
  {
   "cell_type": "code",
   "execution_count": 14,
   "metadata": {
    "execution": {
     "iopub.execute_input": "2023-09-14T12:18:38.655187Z",
     "iopub.status.busy": "2023-09-14T12:18:38.654000Z",
     "iopub.status.idle": "2023-09-14T12:18:38.669470Z",
     "shell.execute_reply": "2023-09-14T12:18:38.668428Z",
     "shell.execute_reply.started": "2023-09-14T12:18:38.655067Z"
    },
    "id": "6qSsz_ucjzrl",
    "tags": []
   },
   "outputs": [],
   "source": [
    "X_train, X_test, y_train, y_test = train_test_split(X, y, test_size=0.2, random_state=42)"
   ]
  },
  {
   "cell_type": "markdown",
   "metadata": {},
   "source": [
    "## Choose top-3 best feature for training"
   ]
  },
  {
   "cell_type": "code",
   "execution_count": 15,
   "metadata": {
    "colab": {
     "base_uri": "https://localhost:8080/",
     "height": 326
    },
    "execution": {
     "iopub.execute_input": "2023-09-14T12:19:20.539150Z",
     "iopub.status.busy": "2023-09-14T12:19:20.538824Z",
     "iopub.status.idle": "2023-09-14T12:19:20.650597Z",
     "shell.execute_reply": "2023-09-14T12:19:20.649971Z",
     "shell.execute_reply.started": "2023-09-14T12:19:20.539131Z"
    },
    "id": "k0ZYMzT2gJe4",
    "outputId": "24e1e00e-35e2-42b9-d785-4659ff1b0748",
    "tags": []
   },
   "outputs": [
    {
     "data": {
      "text/html": [
       "<style type=\"text/css\">\n",
       "#T_50ec8_row0_col0, #T_50ec8_row1_col1, #T_50ec8_row2_col2, #T_50ec8_row3_col3, #T_50ec8_row4_col4, #T_50ec8_row5_col5, #T_50ec8_row6_col6 {\n",
       "  background-color: #b40426;\n",
       "  color: #f1f1f1;\n",
       "}\n",
       "#T_50ec8_row0_col1, #T_50ec8_row2_col0 {\n",
       "  background-color: #cdd9ec;\n",
       "  color: #000000;\n",
       "}\n",
       "#T_50ec8_row0_col2, #T_50ec8_row1_col2, #T_50ec8_row1_col3, #T_50ec8_row2_col3, #T_50ec8_row4_col1 {\n",
       "  background-color: #ccd9ed;\n",
       "  color: #000000;\n",
       "}\n",
       "#T_50ec8_row0_col3, #T_50ec8_row4_col5, #T_50ec8_row5_col4 {\n",
       "  background-color: #c4d5f3;\n",
       "  color: #000000;\n",
       "}\n",
       "#T_50ec8_row0_col4, #T_50ec8_row2_col1, #T_50ec8_row3_col1, #T_50ec8_row5_col1 {\n",
       "  background-color: #cbd8ee;\n",
       "  color: #000000;\n",
       "}\n",
       "#T_50ec8_row0_col5, #T_50ec8_row4_col2, #T_50ec8_row5_col3 {\n",
       "  background-color: #c3d5f4;\n",
       "  color: #000000;\n",
       "}\n",
       "#T_50ec8_row0_col6, #T_50ec8_row6_col0, #T_50ec8_row6_col1, #T_50ec8_row6_col2, #T_50ec8_row6_col3, #T_50ec8_row6_col4, #T_50ec8_row6_col5 {\n",
       "  background-color: #3b4cc0;\n",
       "  color: #f1f1f1;\n",
       "}\n",
       "#T_50ec8_row1_col0 {\n",
       "  background-color: #cfdaea;\n",
       "  color: #000000;\n",
       "}\n",
       "#T_50ec8_row1_col4 {\n",
       "  background-color: #cad8ef;\n",
       "  color: #000000;\n",
       "}\n",
       "#T_50ec8_row1_col5, #T_50ec8_row5_col0 {\n",
       "  background-color: #c9d7f0;\n",
       "  color: #000000;\n",
       "}\n",
       "#T_50ec8_row1_col6, #T_50ec8_row3_col6 {\n",
       "  background-color: #3f53c6;\n",
       "  color: #f1f1f1;\n",
       "}\n",
       "#T_50ec8_row2_col4 {\n",
       "  background-color: #bed2f6;\n",
       "  color: #000000;\n",
       "}\n",
       "#T_50ec8_row2_col5, #T_50ec8_row3_col2 {\n",
       "  background-color: #cedaeb;\n",
       "  color: #000000;\n",
       "}\n",
       "#T_50ec8_row2_col6 {\n",
       "  background-color: #3c4ec2;\n",
       "  color: #f1f1f1;\n",
       "}\n",
       "#T_50ec8_row3_col0 {\n",
       "  background-color: #c7d7f0;\n",
       "  color: #000000;\n",
       "}\n",
       "#T_50ec8_row3_col4 {\n",
       "  background-color: #bcd2f7;\n",
       "  color: #000000;\n",
       "}\n",
       "#T_50ec8_row3_col5, #T_50ec8_row4_col3 {\n",
       "  background-color: #c0d4f5;\n",
       "  color: #000000;\n",
       "}\n",
       "#T_50ec8_row4_col0 {\n",
       "  background-color: #d1dae9;\n",
       "  color: #000000;\n",
       "}\n",
       "#T_50ec8_row4_col6, #T_50ec8_row5_col6 {\n",
       "  background-color: #4358cb;\n",
       "  color: #f1f1f1;\n",
       "}\n",
       "#T_50ec8_row5_col2 {\n",
       "  background-color: #d2dbe8;\n",
       "  color: #000000;\n",
       "}\n",
       "</style>\n",
       "<table id=\"T_50ec8\">\n",
       "  <thead>\n",
       "    <tr>\n",
       "      <th class=\"blank level0\" >&nbsp;</th>\n",
       "      <th id=\"T_50ec8_level0_col0\" class=\"col_heading level0 col0\" >math</th>\n",
       "      <th id=\"T_50ec8_level0_col1\" class=\"col_heading level0 col1\" >physics</th>\n",
       "      <th id=\"T_50ec8_level0_col2\" class=\"col_heading level0 col2\" >sport</th>\n",
       "      <th id=\"T_50ec8_level0_col3\" class=\"col_heading level0 col3\" >programming</th>\n",
       "      <th id=\"T_50ec8_level0_col4\" class=\"col_heading level0 col4\" >english</th>\n",
       "      <th id=\"T_50ec8_level0_col5\" class=\"col_heading level0 col5\" >history</th>\n",
       "      <th id=\"T_50ec8_level0_col6\" class=\"col_heading level0 col6\" >score</th>\n",
       "    </tr>\n",
       "  </thead>\n",
       "  <tbody>\n",
       "    <tr>\n",
       "      <th id=\"T_50ec8_level0_row0\" class=\"row_heading level0 row0\" >math</th>\n",
       "      <td id=\"T_50ec8_row0_col0\" class=\"data row0 col0\" >1.000000</td>\n",
       "      <td id=\"T_50ec8_row0_col1\" class=\"data row0 col1\" >0.205587</td>\n",
       "      <td id=\"T_50ec8_row0_col2\" class=\"data row0 col2\" >0.195104</td>\n",
       "      <td id=\"T_50ec8_row0_col3\" class=\"data row0 col3\" >0.164880</td>\n",
       "      <td id=\"T_50ec8_row0_col4\" class=\"data row0 col4\" >0.209607</td>\n",
       "      <td id=\"T_50ec8_row0_col5\" class=\"data row0 col5\" >0.170442</td>\n",
       "      <td id=\"T_50ec8_row0_col6\" class=\"data row0 col6\" >-0.446511</td>\n",
       "    </tr>\n",
       "    <tr>\n",
       "      <th id=\"T_50ec8_level0_row1\" class=\"row_heading level0 row1\" >physics</th>\n",
       "      <td id=\"T_50ec8_row1_col0\" class=\"data row1 col0\" >0.205587</td>\n",
       "      <td id=\"T_50ec8_row1_col1\" class=\"data row1 col1\" >1.000000</td>\n",
       "      <td id=\"T_50ec8_row1_col2\" class=\"data row1 col2\" >0.196808</td>\n",
       "      <td id=\"T_50ec8_row1_col3\" class=\"data row1 col3\" >0.199636</td>\n",
       "      <td id=\"T_50ec8_row1_col4\" class=\"data row1 col4\" >0.200427</td>\n",
       "      <td id=\"T_50ec8_row1_col5\" class=\"data row1 col5\" >0.196611</td>\n",
       "      <td id=\"T_50ec8_row1_col6\" class=\"data row1 col6\" >-0.422427</td>\n",
       "    </tr>\n",
       "    <tr>\n",
       "      <th id=\"T_50ec8_level0_row2\" class=\"row_heading level0 row2\" >sport</th>\n",
       "      <td id=\"T_50ec8_row2_col0\" class=\"data row2 col0\" >0.195104</td>\n",
       "      <td id=\"T_50ec8_row2_col1\" class=\"data row2 col1\" >0.196808</td>\n",
       "      <td id=\"T_50ec8_row2_col2\" class=\"data row2 col2\" >1.000000</td>\n",
       "      <td id=\"T_50ec8_row2_col3\" class=\"data row2 col3\" >0.204539</td>\n",
       "      <td id=\"T_50ec8_row2_col4\" class=\"data row2 col4\" >0.149181</td>\n",
       "      <td id=\"T_50ec8_row2_col5\" class=\"data row2 col5\" >0.221742</td>\n",
       "      <td id=\"T_50ec8_row2_col6\" class=\"data row2 col6\" >-0.436074</td>\n",
       "    </tr>\n",
       "    <tr>\n",
       "      <th id=\"T_50ec8_level0_row3\" class=\"row_heading level0 row3\" >programming</th>\n",
       "      <td id=\"T_50ec8_row3_col0\" class=\"data row3 col0\" >0.164880</td>\n",
       "      <td id=\"T_50ec8_row3_col1\" class=\"data row3 col1\" >0.199636</td>\n",
       "      <td id=\"T_50ec8_row3_col2\" class=\"data row3 col2\" >0.204539</td>\n",
       "      <td id=\"T_50ec8_row3_col3\" class=\"data row3 col3\" >1.000000</td>\n",
       "      <td id=\"T_50ec8_row3_col4\" class=\"data row3 col4\" >0.144366</td>\n",
       "      <td id=\"T_50ec8_row3_col5\" class=\"data row3 col5\" >0.156720</td>\n",
       "      <td id=\"T_50ec8_row3_col6\" class=\"data row3 col6\" >-0.423247</td>\n",
       "    </tr>\n",
       "    <tr>\n",
       "      <th id=\"T_50ec8_level0_row4\" class=\"row_heading level0 row4\" >english</th>\n",
       "      <td id=\"T_50ec8_row4_col0\" class=\"data row4 col0\" >0.209607</td>\n",
       "      <td id=\"T_50ec8_row4_col1\" class=\"data row4 col1\" >0.200427</td>\n",
       "      <td id=\"T_50ec8_row4_col2\" class=\"data row4 col2\" >0.149181</td>\n",
       "      <td id=\"T_50ec8_row4_col3\" class=\"data row4 col3\" >0.144366</td>\n",
       "      <td id=\"T_50ec8_row4_col4\" class=\"data row4 col4\" >1.000000</td>\n",
       "      <td id=\"T_50ec8_row4_col5\" class=\"data row4 col5\" >0.177365</td>\n",
       "      <td id=\"T_50ec8_row4_col6\" class=\"data row4 col6\" >-0.403522</td>\n",
       "    </tr>\n",
       "    <tr>\n",
       "      <th id=\"T_50ec8_level0_row5\" class=\"row_heading level0 row5\" >history</th>\n",
       "      <td id=\"T_50ec8_row5_col0\" class=\"data row5 col0\" >0.170442</td>\n",
       "      <td id=\"T_50ec8_row5_col1\" class=\"data row5 col1\" >0.196611</td>\n",
       "      <td id=\"T_50ec8_row5_col2\" class=\"data row5 col2\" >0.221742</td>\n",
       "      <td id=\"T_50ec8_row5_col3\" class=\"data row5 col3\" >0.156720</td>\n",
       "      <td id=\"T_50ec8_row5_col4\" class=\"data row5 col4\" >0.177365</td>\n",
       "      <td id=\"T_50ec8_row5_col5\" class=\"data row5 col5\" >1.000000</td>\n",
       "      <td id=\"T_50ec8_row5_col6\" class=\"data row5 col6\" >-0.403723</td>\n",
       "    </tr>\n",
       "    <tr>\n",
       "      <th id=\"T_50ec8_level0_row6\" class=\"row_heading level0 row6\" >score</th>\n",
       "      <td id=\"T_50ec8_row6_col0\" class=\"data row6 col0\" >-0.446511</td>\n",
       "      <td id=\"T_50ec8_row6_col1\" class=\"data row6 col1\" >-0.422427</td>\n",
       "      <td id=\"T_50ec8_row6_col2\" class=\"data row6 col2\" >-0.436074</td>\n",
       "      <td id=\"T_50ec8_row6_col3\" class=\"data row6 col3\" >-0.423247</td>\n",
       "      <td id=\"T_50ec8_row6_col4\" class=\"data row6 col4\" >-0.403522</td>\n",
       "      <td id=\"T_50ec8_row6_col5\" class=\"data row6 col5\" >-0.403723</td>\n",
       "      <td id=\"T_50ec8_row6_col6\" class=\"data row6 col6\" >1.000000</td>\n",
       "    </tr>\n",
       "  </tbody>\n",
       "</table>\n"
      ],
      "text/plain": [
       "<pandas.io.formats.style.Styler at 0x7fcafbbad630>"
      ]
     },
     "execution_count": 15,
     "metadata": {},
     "output_type": "execute_result"
    }
   ],
   "source": [
    "corr = df.corr()\n",
    "corr.style.background_gradient(cmap='coolwarm')"
   ]
  },
  {
   "cell_type": "markdown",
   "metadata": {},
   "source": [
    "<p>Топ-3 очевидно матан, прогерство и спорт!</p>"
   ]
  },
  {
   "cell_type": "code",
   "execution_count": 30,
   "metadata": {
    "execution": {
     "iopub.execute_input": "2023-09-14T12:46:48.985279Z",
     "iopub.status.busy": "2023-09-14T12:46:48.984483Z",
     "iopub.status.idle": "2023-09-14T12:46:48.991258Z",
     "shell.execute_reply": "2023-09-14T12:46:48.990597Z",
     "shell.execute_reply.started": "2023-09-14T12:46:48.985205Z"
    },
    "tags": []
   },
   "outputs": [],
   "source": [
    "def get_predicted_score(scores, model, le_enc):\n",
    "    x = pd.DataFrame([scores])\n",
    "    return le_enc.inverse_transform(model.predict(x))"
   ]
  },
  {
   "cell_type": "markdown",
   "metadata": {},
   "source": [
    "## CatBoost Model"
   ]
  },
  {
   "cell_type": "markdown",
   "metadata": {},
   "source": [
    "### Training"
   ]
  },
  {
   "cell_type": "code",
   "execution_count": 16,
   "metadata": {
    "colab": {
     "base_uri": "https://localhost:8080/"
    },
    "execution": {
     "iopub.execute_input": "2023-09-14T12:40:22.871468Z",
     "iopub.status.busy": "2023-09-14T12:40:22.870958Z",
     "iopub.status.idle": "2023-09-14T12:40:23.075393Z",
     "shell.execute_reply": "2023-09-14T12:40:23.074862Z",
     "shell.execute_reply.started": "2023-09-14T12:40:22.871443Z"
    },
    "id": "7Xfm5GoghoFq",
    "outputId": "ba3dbd86-77b7-4884-84c2-408ade4b4553",
    "tags": []
   },
   "outputs": [],
   "source": [
    "catboost_model = CatBoostClassifier(iterations=50, learning_rate=0.1)\n",
    "catboost_model.fit(\n",
    "    X_train, y_train,\n",
    "    verbose=False\n",
    ")\n",
    "y_pred = catboost_model.predict(X_test)"
   ]
  },
  {
   "cell_type": "markdown",
   "metadata": {},
   "source": [
    "### Get accuracy score of model"
   ]
  },
  {
   "cell_type": "code",
   "execution_count": 17,
   "metadata": {
    "colab": {
     "base_uri": "https://localhost:8080/"
    },
    "execution": {
     "iopub.execute_input": "2023-09-14T12:40:24.351875Z",
     "iopub.status.busy": "2023-09-14T12:40:24.350324Z",
     "iopub.status.idle": "2023-09-14T12:40:24.364976Z",
     "shell.execute_reply": "2023-09-14T12:40:24.364178Z",
     "shell.execute_reply.started": "2023-09-14T12:40:24.351809Z"
    },
    "id": "5SAmhpSTkFkq",
    "outputId": "6b271382-bc41-413f-8011-46bca55ef912",
    "tags": []
   },
   "outputs": [
    {
     "name": "stdout",
     "output_type": "stream",
     "text": [
      "0.895\n"
     ]
    }
   ],
   "source": [
    "print(accuracy_score(y_test, y_pred))"
   ]
  },
  {
   "cell_type": "markdown",
   "metadata": {},
   "source": [
    "### Predict some score"
   ]
  },
  {
   "cell_type": "code",
   "execution_count": 32,
   "metadata": {
    "execution": {
     "iopub.execute_input": "2023-09-14T12:46:56.457542Z",
     "iopub.status.busy": "2023-09-14T12:46:56.456708Z",
     "iopub.status.idle": "2023-09-14T12:46:56.468460Z",
     "shell.execute_reply": "2023-09-14T12:46:56.467453Z",
     "shell.execute_reply.started": "2023-09-14T12:46:56.457465Z"
    },
    "tags": []
   },
   "outputs": [
    {
     "name": "stderr",
     "output_type": "stream",
     "text": [
      "/home/ivan/PycharmProjects/pythonProject/venv/lib/python3.10/site-packages/sklearn/preprocessing/_label.py:155: DataConversionWarning: A column-vector y was passed when a 1d array was expected. Please change the shape of y to (n_samples, ), for example using ravel().\n",
      "  y = column_or_1d(y, warn=True)\n"
     ]
    },
    {
     "data": {
      "text/plain": [
       "'A'"
      ]
     },
     "execution_count": 32,
     "metadata": {},
     "output_type": "execute_result"
    }
   ],
   "source": [
    "score = {\n",
    "    \"math\": 70,\n",
    "    \"physics\": 70,\n",
    "    \"sport\": 70,\n",
    "    \"programming\": 70,\n",
    "    \"english\": 70,\n",
    "    \"history\": 70,\n",
    "}\n",
    "get_predicted_score(score, catboost_model, label_enc)[0]"
   ]
  },
  {
   "cell_type": "markdown",
   "metadata": {},
   "source": [
    "## Logistic Regression Model"
   ]
  },
  {
   "cell_type": "markdown",
   "metadata": {},
   "source": [
    "### Training"
   ]
  },
  {
   "cell_type": "code",
   "execution_count": 33,
   "metadata": {
    "colab": {
     "base_uri": "https://localhost:8080/"
    },
    "execution": {
     "iopub.execute_input": "2023-09-14T12:47:25.607959Z",
     "iopub.status.busy": "2023-09-14T12:47:25.607747Z",
     "iopub.status.idle": "2023-09-14T12:47:25.664591Z",
     "shell.execute_reply": "2023-09-14T12:47:25.663918Z",
     "shell.execute_reply.started": "2023-09-14T12:47:25.607942Z"
    },
    "id": "-m2FA1z2kKkd",
    "outputId": "5e7e15c6-39fa-4974-ce0c-fa9ec5d1406e",
    "tags": []
   },
   "outputs": [],
   "source": [
    "logreg_model = LogisticRegression(random_state=42)\n",
    "logreg_model.fit(X_train, y_train)\n",
    "y_pred = logreg_model.predict(X_test)"
   ]
  },
  {
   "cell_type": "markdown",
   "metadata": {},
   "source": [
    "### Testing"
   ]
  },
  {
   "cell_type": "code",
   "execution_count": 34,
   "metadata": {
    "execution": {
     "iopub.execute_input": "2023-09-14T12:47:51.033379Z",
     "iopub.status.busy": "2023-09-14T12:47:51.032565Z",
     "iopub.status.idle": "2023-09-14T12:47:51.041138Z",
     "shell.execute_reply": "2023-09-14T12:47:51.040402Z",
     "shell.execute_reply.started": "2023-09-14T12:47:51.033304Z"
    },
    "tags": []
   },
   "outputs": [
    {
     "data": {
      "text/plain": [
       "0.6875"
      ]
     },
     "execution_count": 34,
     "metadata": {},
     "output_type": "execute_result"
    }
   ],
   "source": [
    "accuracy_score(y_pred, y_test)"
   ]
  },
  {
   "cell_type": "markdown",
   "metadata": {},
   "source": [
    "### Predict"
   ]
  },
  {
   "cell_type": "code",
   "execution_count": 37,
   "metadata": {
    "execution": {
     "iopub.execute_input": "2023-09-14T12:48:26.306610Z",
     "iopub.status.busy": "2023-09-14T12:48:26.305800Z",
     "iopub.status.idle": "2023-09-14T12:48:26.315337Z",
     "shell.execute_reply": "2023-09-14T12:48:26.314436Z",
     "shell.execute_reply.started": "2023-09-14T12:48:26.306534Z"
    },
    "tags": []
   },
   "outputs": [
    {
     "data": {
      "text/plain": [
       "'C'"
      ]
     },
     "execution_count": 37,
     "metadata": {},
     "output_type": "execute_result"
    }
   ],
   "source": [
    "score = {\n",
    "    \"math\": 40,\n",
    "    \"physics\": 40,\n",
    "    \"sport\": 40,\n",
    "    \"programming\": 70,\n",
    "    \"english\": 70,\n",
    "    \"history\": 70,\n",
    "}\n",
    "get_predicted_score(score, logreg_model, label_enc)[0]"
   ]
  }
 ],
 "metadata": {
  "colab": {
   "provenance": []
  },
  "kernelspec": {
   "display_name": "Python 3 (ipykernel)",
   "language": "python",
   "name": "python3"
  },
  "language_info": {
   "codemirror_mode": {
    "name": "ipython",
    "version": 3
   },
   "file_extension": ".py",
   "mimetype": "text/x-python",
   "name": "python",
   "nbconvert_exporter": "python",
   "pygments_lexer": "ipython3",
   "version": "3.10.12"
  },
  "toc-autonumbering": false,
  "toc-showmarkdowntxt": true
 },
 "nbformat": 4,
 "nbformat_minor": 4
}
