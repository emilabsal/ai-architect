{
 "cells": [
  {
   "cell_type": "markdown",
   "source": [
    "# Лабораторная работа по теме “Парсинг данных”"
   ],
   "metadata": {
    "collapsed": false,
    "pycharm": {
     "name": "#%% md\n"
    }
   }
  },
  {
   "cell_type": "markdown",
   "source": [
    "## Импорт необходимых библиотек"
   ],
   "metadata": {
    "collapsed": false,
    "pycharm": {
     "name": "#%% md\n"
    }
   }
  },
  {
   "cell_type": "code",
   "execution_count": 48,
   "id": "dac42b63-08ad-4871-a4b4-a2df66cf982c",
   "metadata": {
    "pycharm": {
     "name": "#%%\n"
    }
   },
   "outputs": [],
   "source": [
    "import os\n",
    "\n",
    "import requests\n",
    "import json\n",
    "import pandas as pd\n",
    "import psycopg2"
   ]
  },
  {
   "cell_type": "markdown",
   "source": [
    "## Парсинг Open Weather API"
   ],
   "metadata": {
    "collapsed": false,
    "pycharm": {
     "name": "#%% md\n"
    }
   }
  },
  {
   "cell_type": "markdown",
   "source": [
    "Для получения данных о погоде используется сервис Open Weather API. Для того, чтобы начать им пользоваться, необходимо зарегистрироваться и получить APIKEY. В бесплатной подписке дается 60 запросов в минуту до 1 млн запросов в месяц. Доступны различные эндпоинты: например в бесплатной версии можно запрашивать информацию по текущей погоде, погоде за пять дней с шагом в 3 часа, данные о координатах интересующей вас локации, данные по загрязнению воздуха и погодные дашборды.\n",
    "<br>\n",
    "Для того, чтобы получить данные по погоде в интересующем нас месте (например город Казань) необходимо получить ее координаты и передать в запрос к API. Для этого можно воспользоваться Geocoding API <a href='https://openweathermap.org/api/geocoding-api'>ТЫК!</a>. Далее запрашиваем данные о погоде из Current Weather API <a href='https://openweathermap.org/current'>ТЫК2!</a>."
   ],
   "metadata": {
    "collapsed": false,
    "pycharm": {
     "name": "#%% md\n"
    }
   }
  },
  {
   "cell_type": "code",
   "execution_count": 2,
   "id": "5b86f589-a370-4132-ae5b-c4f90eced328",
   "metadata": {
    "pycharm": {
     "name": "#%%\n"
    }
   },
   "outputs": [],
   "source": [
    "APIKEY = '<secret-api-key>'\n",
    "location_part = 'Kazan,Russia'      # Указываем город,страну\n",
    "limit = 5       # Количество получаемых подходящих вариантов (по дефолту 5)"
   ]
  },
  {
   "cell_type": "code",
   "execution_count": 75,
   "id": "3e8f72af-8bad-4c48-98fe-c223bee01409",
   "metadata": {
    "pycharm": {
     "name": "#%%\n"
    }
   },
   "outputs": [],
   "source": [
    "url = 'https://api.openweathermap.org'\n",
    "api_weather_template = 'data/2.5/weather?lat={lat}&lon={lon}&units=metric&lang=ru&appid={api_key}'      # Weather API\n",
    "api_geocoding_template = 'geo/1.0/direct?q={location_part}&limit={limit}&appid={api_key}'       # Geocoding API"
   ]
  },
  {
   "cell_type": "markdown",
   "source": [
    "Отправим запрос к Geocoding API для получения широты и долготы города Казань"
   ],
   "metadata": {
    "collapsed": false,
    "pycharm": {
     "name": "#%% md\n"
    }
   }
  },
  {
   "cell_type": "code",
   "execution_count": 4,
   "id": "e402ba8d-b297-4fbc-8266-cd5c98ebede9",
   "metadata": {
    "pycharm": {
     "name": "#%%\n"
    }
   },
   "outputs": [
    {
     "data": {
      "text/plain": "200"
     },
     "execution_count": 4,
     "metadata": {},
     "output_type": "execute_result"
    }
   ],
   "source": [
    "api_geocoding = api_geocoding_template.format(location_part=location_part, api_key=APIKEY, limit=limit)\n",
    "geocoding_response = requests.get(f'{url}/{api_geocoding}')\n",
    "geocoding_response.status_code"
   ]
  },
  {
   "cell_type": "code",
   "execution_count": 5,
   "id": "9dca333f-d8b2-48e1-932f-3cad86fba2b6",
   "metadata": {
    "pycharm": {
     "name": "#%%\n"
    }
   },
   "outputs": [],
   "source": [
    "geo_data = json.loads(geocoding_response.text)"
   ]
  },
  {
   "cell_type": "code",
   "execution_count": 68,
   "id": "fa065ae3-c714-46f9-a9dd-d448e573b181",
   "metadata": {
    "pycharm": {
     "name": "#%%\n"
    }
   },
   "outputs": [
    {
     "data": {
      "text/plain": "(55.7823547, 49.1242266)"
     },
     "execution_count": 68,
     "metadata": {},
     "output_type": "execute_result"
    }
   ],
   "source": [
    "lat, lon, name = geo_data[0]['lat'], geo_data[0]['lon'], geo_data[0]['name']\n",
    "lat, lon"
   ]
  },
  {
   "cell_type": "markdown",
   "source": [
    "Эти данные мы будем использовать далее для получения данных о погоде. Но так как эта информация статическая, мы можем ее сохранить в базе данных, чтобы сразу обращаться к ней вместо обращения к API. Сформируем INSERT запрос, который выполним позже. (схемы таблиц будут приведены позже)"
   ],
   "metadata": {
    "collapsed": false,
    "pycharm": {
     "name": "#%% md\n"
    }
   }
  },
  {
   "cell_type": "code",
   "execution_count": 72,
   "outputs": [],
   "source": [
    "insert_city_expr = f\"\"\"\n",
    "INSERT INTO city\n",
    "VALUES ('{name}', {lat}, {lon});\n",
    "\"\"\""
   ],
   "metadata": {
    "collapsed": false,
    "pycharm": {
     "name": "#%%\n"
    }
   }
  },
  {
   "cell_type": "markdown",
   "source": [
    "Используем Current Weather API для получения данных о погоде города Казань"
   ],
   "metadata": {
    "collapsed": false,
    "pycharm": {
     "name": "#%% md\n"
    }
   }
  },
  {
   "cell_type": "code",
   "execution_count": 53,
   "outputs": [
    {
     "data": {
      "text/plain": "200"
     },
     "execution_count": 53,
     "metadata": {},
     "output_type": "execute_result"
    }
   ],
   "source": [
    "api_weather = api_weather_template.format(lat=lat, lon=lon, api_key=APIKEY)\n",
    "response = requests.get(f'{url}/{api_weather}')\n",
    "response.status_code"
   ],
   "metadata": {
    "collapsed": false,
    "pycharm": {
     "name": "#%%\n"
    }
   }
  },
  {
   "cell_type": "markdown",
   "source": [
    "Какой ответ мы получаем: координаты, данные о погоде (пасмурно, солнечно), количественные данные (температура, давление, влажность, видимость, скорость и направление ветра, облачность), время запроса, время рассвета и заката, данные о часовом поясе и другие внутренние параметры API. Преобразуем временные параметры, добавим поле - название города в EN, и распарсим поле <strong>weather</strong> - он представляет собой список словарей, нам нужно описание состояния погоды (поле <strong>description</strong>) в каждом состоянии."
   ],
   "metadata": {
    "collapsed": false,
    "pycharm": {
     "name": "#%% md\n"
    }
   }
  },
  {
   "cell_type": "code",
   "execution_count": 54,
   "outputs": [
    {
     "data": {
      "text/plain": "'{\"coord\":{\"lon\":49.1242,\"lat\":55.7824},\"weather\":[{\"id\":804,\"main\":\"Clouds\",\"description\":\"пасмурно\",\"icon\":\"04d\"}],\"base\":\"stations\",\"main\":{\"temp\":5.85,\"feels_like\":4.68,\"temp_min\":3.79,\"temp_max\":6.66,\"pressure\":1015,\"humidity\":80,\"sea_level\":1015,\"grnd_level\":1009},\"visibility\":10000,\"wind\":{\"speed\":1.7,\"deg\":251,\"gust\":2.2},\"clouds\":{\"all\":99},\"dt\":1697801055,\"sys\":{\"type\":2,\"id\":48937,\"country\":\"RU\",\"sunrise\":1697772194,\"sunset\":1697808793},\"timezone\":10800,\"id\":551487,\"name\":\"Казань\",\"cod\":200}'"
     },
     "execution_count": 54,
     "metadata": {},
     "output_type": "execute_result"
    }
   ],
   "source": [
    "response.text"
   ],
   "metadata": {
    "collapsed": false,
    "pycharm": {
     "name": "#%%\n"
    }
   }
  },
  {
   "cell_type": "code",
   "execution_count": 55,
   "outputs": [],
   "source": [
    "df = pd.json_normalize(json.loads(response.text), sep='_')"
   ],
   "metadata": {
    "collapsed": false,
    "pycharm": {
     "name": "#%%\n"
    }
   }
  },
  {
   "cell_type": "code",
   "execution_count": 57,
   "outputs": [],
   "source": [
    "df['weather'] = df.weather.apply(lambda x: ','.join(k['description'] for k in x))\n",
    "df['report_datetime'] = pd.to_datetime(df['dt'] + df['timezone'], unit='s').astype('str')\n",
    "df['sunrise_datetime'] = pd.to_datetime(df['sys_sunrise'] + df['timezone'], unit='s').astype('str')\n",
    "df['sunset_datetime'] = pd.to_datetime(df['sys_sunset'] + df['timezone'], unit='s').astype('str')\n",
    "df['city_name_en'] = name"
   ],
   "metadata": {
    "collapsed": false,
    "pycharm": {
     "name": "#%%\n"
    }
   }
  },
  {
   "cell_type": "markdown",
   "source": [
    "Сформируем список необходимых данных, которые мы далее будем загружать в БД."
   ],
   "metadata": {
    "collapsed": false,
    "pycharm": {
     "name": "#%% md\n"
    }
   }
  },
  {
   "cell_type": "code",
   "execution_count": 74,
   "outputs": [
    {
     "data": {
      "text/plain": "('Kazan',\n 'Казань',\n 'RU',\n '2023-10-20 14:24:15',\n 'пасмурно',\n 10000,\n 5.85,\n 4.68,\n 3.79,\n 6.66,\n 1015,\n 80,\n 1015,\n 1009,\n 1.7,\n 251,\n 2.2,\n 99,\n 49.1242,\n 55.7824,\n '2023-10-20 06:23:14',\n '2023-10-20 16:33:13')"
     },
     "execution_count": 74,
     "metadata": {},
     "output_type": "execute_result"
    }
   ],
   "source": [
    "columns = [\n",
    "    'city_name_en',\n",
    "    'name',\n",
    "    'sys_country',\n",
    "    'report_datetime',\n",
    "    'weather',\n",
    "    'visibility',\n",
    "    'main_temp',\n",
    "    'main_feels_like',\n",
    "    'main_temp_min',\n",
    "    'main_temp_max',\n",
    "    'main_pressure',\n",
    "    'main_humidity',\n",
    "    'main_sea_level',\n",
    "    'main_grnd_level',\n",
    "    'wind_speed',\n",
    "    'wind_deg',\n",
    "    'wind_gust',\n",
    "    'clouds_all',\n",
    "    'coord_lon',\n",
    "    'coord_lat',\n",
    "    'sunrise_datetime',\n",
    "    'sunset_datetime',\n",
    "]\n",
    "df[columns].to_records(index=False).tolist()[0]"
   ],
   "metadata": {
    "collapsed": false,
    "pycharm": {
     "name": "#%%\n"
    }
   }
  },
  {
   "cell_type": "code",
   "execution_count": 63,
   "outputs": [],
   "source": [
    "insert_expr = f\"\"\"\n",
    "INSERT INTO weather\n",
    "VALUES {df[columns].to_records(index=False).tolist()[0]};\n",
    "\"\"\"\n"
   ],
   "metadata": {
    "collapsed": false,
    "pycharm": {
     "name": "#%%\n"
    }
   }
  },
  {
   "cell_type": "markdown",
   "source": [
    "Создадим подключение к БД и загрузим полученные данные в БД."
   ],
   "metadata": {
    "collapsed": false,
    "pycharm": {
     "name": "#%% md\n"
    }
   }
  },
  {
   "cell_type": "code",
   "execution_count": 73,
   "outputs": [],
   "source": [
    "postgres_password = os.getenv('POSTGRES_PASSWORD')\n",
    "with psycopg2.connect(database='weather', user='postgres', password=postgres_password) as conn:\n",
    "    with conn.cursor() as cur:\n",
    "        cur.execute(insert_city_expr)\n",
    "        cur.execute(insert_expr)"
   ],
   "metadata": {
    "collapsed": false,
    "pycharm": {
     "name": "#%%\n"
    }
   }
  },
  {
   "cell_type": "markdown",
   "source": [
    "Объединим данные шаги в одну функцию, которую потом можно завернуть в ДАГ Airflow или обернуть как эндпоинт своего сервиса по получению данных о погоде. В данной функции у нас будут параметры: интересующий город (+страна) и опциональный параметр (количество получаемых геолокаций). Добавим также обработку ошибок и получение данных о городе из БД, если по этому городу уже до этого получали данные. <br><br> Реализуем на примере локального хранения (в случае использования в Airflow или бэке необходимо будет изменить только способ получения данных из БД - ORM (Flask, FASTApi) или hooks (Airflow) и загрузку данных (аналогично))."
   ],
   "metadata": {
    "collapsed": false,
    "pycharm": {
     "name": "#%% md\n"
    }
   }
  },
  {
   "cell_type": "code",
   "execution_count": 95,
   "outputs": [],
   "source": [
    "def load_current_weather_data(city: str, country: str, limit=5):\n",
    "    # Данные параметры можно завернуть в глобальные\n",
    "    # В данном случае привожу их в функции чтобы алгоритм был в одном месте\n",
    "    url = 'https://api.openweathermap.org'\n",
    "    api_weather_template = 'data/2.5/weather?lat={lat}&lon={lon}&units=metric&lang=ru&appid={api_key}'      # Weather API\n",
    "    api_geocoding_template = 'geo/1.0/direct?q={location_part}&limit={limit}&appid={api_key}'       # Geocoding API\n",
    "    postgres_password = os.getenv('POSTGRES_PASSWORD')\n",
    "\n",
    "    # Получаем имеющие данные по данному городу\n",
    "    with psycopg2.connect(database='weather', user='postgres', password=postgres_password) as conn:\n",
    "        with conn.cursor() as cur:\n",
    "            cur.execute(f\"SELECT * FROM city WHERE name = '{city.lower()}'\")\n",
    "            city_date = cur.fetchone()\n",
    "            if city_date is None:\n",
    "                location_part = city + ',' + country\n",
    "                api_geocoding = api_geocoding_template.format(location_part=location_part, api_key=APIKEY, limit=limit)\n",
    "                geocoding_response = requests.get(f'{url}/{api_geocoding}')\n",
    "                if geocoding_response.status_code != 200:\n",
    "                    geocoding_response.raise_for_status()\n",
    "                geo_data = json.loads(geocoding_response.text)[0]\n",
    "                name, lat, lon = geo_data['name'], geo_data['lat'], geo_data['lon']\n",
    "                insert_city_expr = f\"\"\"\n",
    "                    INSERT INTO city\n",
    "                    VALUES ('{name.lower()}', {lat}, {lon});\n",
    "                \"\"\"\n",
    "                cur.execute(insert_city_expr)\n",
    "                print(f'Данные о городе {city} взяты из API')\n",
    "            else:\n",
    "                name, lat, lon = city_date\n",
    "                print(f'Данные о городе {city} взяты из БД')\n",
    "\n",
    "            # Запрашиваем данные по погоде\n",
    "            api_weather = api_weather_template.format(lat=lat, lon=lon, api_key=APIKEY)\n",
    "            response = requests.get(f'{url}/{api_weather}')\n",
    "            if response.status_code != 200:\n",
    "                response.raise_for_status()\n",
    "\n",
    "            df = pd.json_normalize(json.loads(response.text), sep='_')\n",
    "            df['weather'] = df.weather.apply(lambda x: ','.join(k['description'] for k in x))\n",
    "            df['report_datetime'] = pd.to_datetime(df['dt'] + df['timezone'], unit='s').astype('str')\n",
    "            df['sunrise_datetime'] = pd.to_datetime(df['sys_sunrise'] + df['timezone'], unit='s').astype('str')\n",
    "            df['sunset_datetime'] = pd.to_datetime(df['sys_sunset'] + df['timezone'], unit='s').astype('str')\n",
    "            df['city_name_en'] = name\n",
    "\n",
    "            # Загружаем необходимые данные в БД\n",
    "            columns = [\n",
    "                'city_name_en','name','sys_country','report_datetime','weather','visibility','main_temp','main_feels_like','main_temp_min','main_temp_max','main_pressure','main_humidity','wind_speed','wind_deg','wind_gust','clouds_all','coord_lon','coord_lat','sunrise_datetime','sunset_datetime',\n",
    "            ]\n",
    "            insert_expr = f\"\"\"\n",
    "                INSERT INTO weather\n",
    "                VALUES {df[columns].to_records(index=False).tolist()[0]};\n",
    "            \"\"\"\n",
    "            cur.execute(insert_expr)\n"
   ],
   "metadata": {
    "collapsed": false,
    "pycharm": {
     "name": "#%%\n"
    }
   }
  },
  {
   "cell_type": "code",
   "execution_count": 96,
   "outputs": [
    {
     "name": "stdout",
     "output_type": "stream",
     "text": [
      "Данные о городе Kazan взяты из БД\n"
     ]
    }
   ],
   "source": [
    "load_current_weather_data('Kazan', 'Russia')"
   ],
   "metadata": {
    "collapsed": false,
    "pycharm": {
     "name": "#%%\n"
    }
   }
  },
  {
   "cell_type": "code",
   "execution_count": 91,
   "outputs": [
    {
     "name": "stdout",
     "output_type": "stream",
     "text": [
      "Данные о городе Moscow взяты из БД\n"
     ]
    }
   ],
   "source": [
    "load_current_weather_data('Moscow', 'Russia')"
   ],
   "metadata": {
    "collapsed": false,
    "pycharm": {
     "name": "#%%\n"
    }
   }
  },
  {
   "cell_type": "code",
   "execution_count": 100,
   "outputs": [
    {
     "name": "stdout",
     "output_type": "stream",
     "text": [
      "[('kazan', Decimal('55.782355'), Decimal('49.124227')),\n",
      " ('moscow', Decimal('55.750446'), Decimal('37.617494'))]\n"
     ]
    }
   ],
   "source": [
    "from pprint import pprint\n",
    "\n",
    "postgres_password = os.getenv('POSTGRES_PASSWORD')\n",
    "with psycopg2.connect(database='weather', user='postgres', password=postgres_password) as conn:\n",
    "    with conn.cursor() as cur:\n",
    "        cur.execute(f\"SELECT * FROM city;\")\n",
    "        city_data = cur.fetchall()\n",
    "        pprint(city_data)"
   ],
   "metadata": {
    "collapsed": false,
    "pycharm": {
     "name": "#%%\n"
    }
   }
  },
  {
   "cell_type": "code",
   "execution_count": 101,
   "outputs": [
    {
     "name": "stdout",
     "output_type": "stream",
     "text": [
      "[('kazan',\n",
      "  'Казань',\n",
      "  'RU',\n",
      "  datetime.datetime(2023, 10, 20, 15, 28, 18),\n",
      "  'пасмурно',\n",
      "  10000,\n",
      "  Decimal('5.85'),\n",
      "  Decimal('5.85'),\n",
      "  Decimal('3.79'),\n",
      "  Decimal('6.66'),\n",
      "  1015,\n",
      "  76,\n",
      "  Decimal('0.96'),\n",
      "  255,\n",
      "  Decimal('1.36'),\n",
      "  100,\n",
      "  Decimal('49.124200'),\n",
      "  Decimal('55.782400'),\n",
      "  datetime.datetime(2023, 10, 20, 6, 23, 14),\n",
      "  datetime.datetime(2023, 10, 20, 16, 33, 13)),\n",
      " ('moscow',\n",
      "  'Москва',\n",
      "  'RU',\n",
      "  datetime.datetime(2023, 10, 20, 15, 20, 25),\n",
      "  'пасмурно',\n",
      "  7965,\n",
      "  Decimal('5.41'),\n",
      "  Decimal('2.28'),\n",
      "  Decimal('3.99'),\n",
      "  Decimal('7.15'),\n",
      "  1011,\n",
      "  90,\n",
      "  Decimal('4.15'),\n",
      "  56,\n",
      "  Decimal('5.88'),\n",
      "  100,\n",
      "  Decimal('37.617500'),\n",
      "  Decimal('55.750400'),\n",
      "  datetime.datetime(2023, 10, 20, 7, 9, 16),\n",
      "  datetime.datetime(2023, 10, 20, 17, 19, 14)),\n",
      " ('kazan',\n",
      "  'Казань',\n",
      "  'RU',\n",
      "  datetime.datetime(2023, 10, 20, 15, 28, 18),\n",
      "  'пасмурно',\n",
      "  10000,\n",
      "  Decimal('5.85'),\n",
      "  Decimal('5.85'),\n",
      "  Decimal('3.79'),\n",
      "  Decimal('6.66'),\n",
      "  1015,\n",
      "  76,\n",
      "  Decimal('0.96'),\n",
      "  255,\n",
      "  Decimal('1.36'),\n",
      "  100,\n",
      "  Decimal('49.124200'),\n",
      "  Decimal('55.782400'),\n",
      "  datetime.datetime(2023, 10, 20, 6, 23, 14),\n",
      "  datetime.datetime(2023, 10, 20, 16, 33, 13))]\n"
     ]
    }
   ],
   "source": [
    "postgres_password = os.getenv('POSTGRES_PASSWORD')\n",
    "with psycopg2.connect(database='weather', user='postgres', password=postgres_password) as conn:\n",
    "    with conn.cursor() as cur:\n",
    "        cur.execute(f\"SELECT * FROM weather;\")\n",
    "        weather_data = cur.fetchall()\n",
    "        pprint(weather_data)"
   ],
   "metadata": {
    "collapsed": false,
    "pycharm": {
     "name": "#%%\n"
    }
   }
  },
  {
   "cell_type": "markdown",
   "source": [
    "Схема БД:\n",
    "<img src=\"img/weather_schema.png\">"
   ],
   "metadata": {
    "collapsed": false,
    "pycharm": {
     "name": "#%% md\n"
    }
   }
  }
 ],
 "metadata": {
  "kernelspec": {
   "display_name": "Python 3 (ipykernel)",
   "language": "python",
   "name": "python3"
  },
  "language_info": {
   "codemirror_mode": {
    "name": "ipython",
    "version": 3
   },
   "file_extension": ".py",
   "mimetype": "text/x-python",
   "name": "python",
   "nbconvert_exporter": "python",
   "pygments_lexer": "ipython3",
   "version": "3.11.1"
  }
 },
 "nbformat": 4,
 "nbformat_minor": 5
}