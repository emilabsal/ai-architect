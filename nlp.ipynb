{
 "cells": [
  {
   "cell_type": "markdown",
   "source": [
    "# Лабораторная работа по НЛП"
   ],
   "metadata": {
    "collapsed": false,
    "pycharm": {
     "name": "#%% md\n"
    }
   }
  },
  {
   "cell_type": "markdown",
   "source": [
    "## TF-IDF преобразование 10 песен"
   ],
   "metadata": {
    "collapsed": false,
    "pycharm": {
     "name": "#%% md\n"
    }
   }
  },
  {
   "cell_type": "markdown",
   "source": [
    "### Импорты используемых библиотек"
   ],
   "metadata": {
    "collapsed": false,
    "pycharm": {
     "name": "#%% md\n"
    }
   }
  },
  {
   "cell_type": "code",
   "execution_count": 1,
   "id": "e5714b42-dcfd-4b2a-be62-69f1ccb2709d",
   "metadata": {
    "pycharm": {
     "name": "#%%\n"
    }
   },
   "outputs": [
    {
     "name": "stderr",
     "output_type": "stream",
     "text": [
      "[nltk_data] Downloading package stopwords to\n",
      "[nltk_data]     C:\\Users\\Ivan\\AppData\\Roaming\\nltk_data...\n",
      "[nltk_data]   Package stopwords is already up-to-date!\n",
      "[nltk_data] Downloading package punkt to\n",
      "[nltk_data]     C:\\Users\\Ivan\\AppData\\Roaming\\nltk_data...\n",
      "[nltk_data]   Package punkt is already up-to-date!\n",
      "[nltk_data] Downloading package wordnet to\n",
      "[nltk_data]     C:\\Users\\Ivan\\AppData\\Roaming\\nltk_data...\n",
      "[nltk_data]   Package wordnet is already up-to-date!\n"
     ]
    },
    {
     "data": {
      "text/plain": "True"
     },
     "execution_count": 1,
     "metadata": {},
     "output_type": "execute_result"
    }
   ],
   "source": [
    "from bs4 import BeautifulSoup\n",
    "import requests\n",
    "from pprint import pprint\n",
    "\n",
    "import pandas as pd\n",
    "from sklearn.feature_extraction.text import TfidfVectorizer\n",
    "\n",
    "import nltk\n",
    "from nltk.corpus import stopwords\n",
    "from nltk.tokenize import RegexpTokenizer\n",
    "from nltk.stem import WordNetLemmatizer \n",
    "\n",
    "nltk.download(['stopwords', 'punkt', 'wordnet'])"
   ]
  },
  {
   "cell_type": "markdown",
   "source": [
    "### Функция по выгрузки текста песен из сайта lyrics.com"
   ],
   "metadata": {
    "collapsed": false,
    "pycharm": {
     "name": "#%% md\n"
    }
   }
  },
  {
   "cell_type": "code",
   "execution_count": 3,
   "id": "537fb621-0576-4628-9102-5f9eb61d8bc5",
   "metadata": {
    "pycharm": {
     "name": "#%%\n"
    }
   },
   "outputs": [],
   "source": [
    "def get_linkin_park_song_lyrics(max_number_songs=10):\n",
    "    url = 'https://www.lyrics.com'\n",
    "    headers = {'User-Agent': 'Mozilla/5.0 (Windows NT 10.0; Win64; x64) AppleWebKit/537.36 (KHTML, like Gecko) Chrome/116.0.5845.2271 Safari/537.36'}\n",
    "    response = requests.get(f'{url}/artist/Linkin-Park/447095', headers=headers)\n",
    "    soup = BeautifulSoup(response.content)\n",
    "    songs = {}\n",
    "    songs_extracted = 0\n",
    "    for table_tag in soup.find_all('table', class_='tdata'):\n",
    "        for row in table_tag.tbody.find_all('tr'):\n",
    "            name = row.a.text\n",
    "            if name not in songs:\n",
    "                try:\n",
    "                    href = row.a['href']\n",
    "                    song_url = f'{url}{href}'\n",
    "                    song_response = requests.get(song_url, headers=headers)\n",
    "                    song_soup = BeautifulSoup(song_response.content)\n",
    "                    songs[name] = song_soup.find('pre', class_='lyric-body').text\n",
    "                    songs_extracted += 1\n",
    "                    if songs_extracted == max_number_songs:\n",
    "                        return songs\n",
    "                except Exception:\n",
    "                    pass"
   ]
  },
  {
   "cell_type": "markdown",
   "source": [
    "### Загрузка и предобработка данных"
   ],
   "metadata": {
    "collapsed": false,
    "pycharm": {
     "name": "#%% md\n"
    }
   }
  },
  {
   "cell_type": "code",
   "execution_count": 4,
   "outputs": [],
   "source": [
    "songs = get_linkin_park_song_lyrics()\n",
    "songs_list = [(key, value) for key, value in songs.items()]\n",
    "df = pd.DataFrame(songs_list, columns=['name', 'text'])\n",
    "en_stopwords = set(stopwords.words('english'))\n",
    "df"
   ],
   "metadata": {
    "collapsed": false,
    "pycharm": {
     "name": "#%%\n"
    }
   }
  },
  {
   "cell_type": "code",
   "execution_count": 5,
   "id": "9e8a421c-0dd3-40e0-b620-9a583b1b8f60",
   "metadata": {
    "pycharm": {
     "name": "#%%\n"
    }
   },
   "outputs": [],
   "source": [
    "def preprocessing(text, stopwords):\n",
    "    tokenizer = RegexpTokenizer(r'\\w+')\n",
    "    lemmatizer = WordNetLemmatizer()\n",
    "    text = ' '.join(text.lower().split())\n",
    "    text_tokens = tokenizer.tokenize(text)\n",
    "    cleared_tokens = []\n",
    "    for token in text_tokens:\n",
    "        if token not in stopwords:\n",
    "            cleared_tokens.append(lemmatizer.lemmatize(token))\n",
    "    return ' '.join(cleared_tokens)\n",
    "\n",
    "df['preprocessing'] = df.text.apply(lambda x: preprocessing(x, en_stopwords))"
   ]
  },
  {
   "cell_type": "markdown",
   "source": [
    "### Преобразование данных методом TF-IDF"
   ],
   "metadata": {
    "collapsed": false,
    "pycharm": {
     "name": "#%% md\n"
    }
   }
  },
  {
   "cell_type": "code",
   "execution_count": 6,
   "id": "e7a599f7-600c-46ea-a29d-3ed24d176cf7",
   "metadata": {
    "pycharm": {
     "name": "#%%\n"
    }
   },
   "outputs": [
    {
     "name": "stdout",
     "output_type": "stream",
     "text": [
      "Ключевые слова: ['even', 'end', 'tried', 'hard', 'matter', 'far', 'thing', 'time', 'watch', 'one', 'know', 'got', 'lose', 'fall', 'go', 'though', 'rhyme', 'meant', 'kept', 'keep', 'fell', 'eventually', 'designed', 'try', 'pushed', 'memory', 'apart', 'trust', 'mind', 'put', 'inside', 'everything', 'way', 'window', 'wasted', 'valuable', 'unreal', 'tick', 'swing', 'surprised', 'start', 'spite', 'remind', 'remembering', 'recognize', 'property', 'pendulum', 'mocking', 'knew', 'fought', 'fly', 'explain', 'due', 'count', 'come', 'clock', 'acting', 'back', 'part', 'hold', 'day', 'trying', 'look', 'life', 'anymore', 'right', 'like', 'away', 'x2', 'wrong', 'wound', 'would', 'worst', 'worse', 'word', 'wondering', 'wonder', 'within', 'whirlwind', 'well', 'wave', 'watching', 'wasting', 'waste', 'wanted', 'want', 'wanna', 'walking', 'voice', 'vacancy', 'uptight', 'undertow', 'understand', 'underneath', 'unconfident', 'turning', 'turn', 'truth', 'trusted', 'true', 'top', 'today', 'tiring', 'tired', 'till', 'til', 'tightly', 'throw', 'thought', 'think', 'tension', 'taught', 'talk', 'taking', 'take', 'swim', 'swear', 'surprise', 'surface', 'sun', 'stuck', 'stressed', 'stop', 'step', 'stealing', 'steadily', 'stay', 'stand', 'somewhere', 'sometimes', 'something', 'someone', 'somehow', 'somebody', 'smothering', 'sky', 'skin', 'sink', 'sift', 'shut', 'shoe', 'share', 'shame', 'set', 'sense', 'see', 'second', 'screaming', 'scar', 'say', 'said', 'running', 'run', 'revealed', 'remember', 'really', 'real', 'rather', 'race', 'question', 'push', 'pulling', 'probably', 'pride', 'pretended', 'pretend', 'pressure', 'possibility', 'point', 'pleasure', 'person', 'paranoid', 'paranoia', 'paper', 'pain', 'pace', 'ought', 'open', 'numb', 'nothingness', 'nothing', 'night', 'never', 'negativity', 'need', 'name', 'much', 'mistake', 'may', 'make', 'lying', 'love', 'lost', 'looking', 'lookin', 'long', 'loneliness', 'live', 'little', 'listening', 'listen', 'light', 'lie', 'let', 'lesson', 'left', 'learned', 'le', 'laugh', 'last', 'justify', 'instead', 'insecure', 'imagined', 'ignored', 'hurt', 'hollow', 'holding', 'help', 'held', 'hearing', 'hear', 'healed', 'heal', 'head', 'happy', 'handful', 'guilty', 'graffiti', 'goodbye', 'gonna', 'gone', 'give', 'get', 'game', 'gain', 'front', 'frame', 'forget', 'forfeit', 'forcing', 'foot', 'fitting', 'first', 'finger', 'find', 'filled', 'felt', 'feeling', 'feel', 'fed', 'fault', 'fast', 'fallen', 'faithlessness', 'faithless', 'failing', 'fact', 'face', 'eye', 'expecting', 'exactly', 'everywhere', 'everyone', 'everybody', 'every', 'ever', 'erase', 'else', 'dust', 'doubt', 'door', 'disregard', 'disbelief', 'disappointed', 'decoration', 'deceit', 'damage', 'criminal', 'cover', 'convince', 'control', 'constant', 'confused', 'condescending', 'complaint', 'close', 'chorus', 'changing', 'cause', 'caught', 'building', 'broken', 'breathe', 'break', 'bit', 'betray', 'beneath', 'bend', 'belong', 'believe', 'began', 'becoming', 'become', 'bag', 'awful', 'aware', 'awakes', 'association', 'aside', 'apology', 'anywhere', 'anything', 'answer', 'another', 'angry', 'always', 'along', 'alone', 'afraid', 'add', 'action', 'act']\n"
     ]
    }
   ],
   "source": [
    "tfidf_vectorizer = TfidfVectorizer()\n",
    "tfidf_matrix = tfidf_vectorizer.fit_transform(df['preprocessing'])\n",
    "# Получение списка ключевых слов и их значения TF-IDF для первого документа\n",
    "feature_names = tfidf_vectorizer.get_feature_names_out()\n",
    "tfidf_scores = tfidf_matrix.toarray()[0]\n",
    "\n",
    "# Сортировка слов по значениям TF-IDF\n",
    "sorted_keywords = [word for _, word in sorted(zip(tfidf_scores, feature_names), reverse=True)]\n",
    "\n",
    "print(\"Ключевые слова:\", sorted_keywords)"
   ]
  },
  {
   "cell_type": "markdown",
   "source": [
    "Полученные вектора для каждого токена исходного датасета"
   ],
   "metadata": {
    "collapsed": false,
    "pycharm": {
     "name": "#%% md\n"
    }
   }
  },
  {
   "cell_type": "code",
   "execution_count": 7,
   "id": "ea490a90-824f-4f17-88e2-d173e5e66e2c",
   "metadata": {
    "pycharm": {
     "name": "#%%\n"
    }
   },
   "outputs": [
    {
     "data": {
      "text/plain": "matrix([[0.        , 0.        , 0.02654262, 0.        , 0.        ,\n         0.        , 0.        , 0.        , 0.02654262, 0.02256366,\n         0.07962787, 0.        , 0.        , 0.        , 0.        ,\n         0.        , 0.        , 0.05308525, 0.        , 0.        ,\n         0.30634748, 0.        , 0.        , 0.02654262, 0.        ,\n         0.        , 0.        , 0.        , 0.        , 0.        ,\n         0.        , 0.        , 0.        , 0.        , 0.        ,\n         0.02256366, 0.        , 0.        , 0.        , 0.        ,\n         0.        , 0.        , 0.        , 0.        , 0.        ,\n         0.        , 0.        , 0.02654262, 0.        , 0.        ,\n         0.        , 0.        , 0.        , 0.        , 0.        ,\n         0.        , 0.02654262, 0.        , 0.        , 0.        ,\n         0.        , 0.07962787, 0.        , 0.        , 0.04512731,\n         0.        , 0.        , 0.        , 0.        , 0.        ,\n         0.        , 0.        , 0.        , 0.        , 0.        ,\n         0.        , 0.        , 0.        , 0.        , 0.        ,\n         0.        , 0.        , 0.        , 0.        , 0.        ,\n         0.        , 0.        , 0.        , 0.        , 0.        ,\n         0.        , 0.        , 0.        , 0.        , 0.        ,\n         0.02654262, 0.04512731, 0.1061705 , 0.        , 0.        ,\n         0.        , 0.        , 0.        , 0.        , 0.        ,\n         0.        , 0.        , 0.        , 0.        , 0.        ,\n         0.        , 0.        , 0.        , 0.        , 0.42870947,\n         0.1061705 , 0.        , 0.02654262, 0.05308525, 0.        ,\n         0.        , 0.        , 0.        , 0.        , 0.        ,\n         0.        , 0.        , 0.        , 0.        , 0.        ,\n         0.        , 0.        , 0.        , 0.        , 0.        ,\n         0.        , 0.        , 0.07962787, 0.        , 0.        ,\n         0.        , 0.        , 0.07069557, 0.        , 0.        ,\n         0.        , 0.02256366, 0.        , 0.02654262, 0.        ,\n         0.0592216 , 0.        , 0.        , 0.        , 0.        ,\n         0.        , 0.        , 0.        , 0.        , 0.        ,\n         0.        , 0.        , 0.        , 0.        , 0.        ,\n         0.        , 0.        , 0.        , 0.        , 0.        ,\n         0.        , 0.        , 0.15792426, 0.        , 0.        ,\n         0.        , 0.        , 0.        , 0.        , 0.11033095,\n         0.        , 0.        , 0.        , 0.        , 0.        ,\n         0.212341  , 0.        , 0.        , 0.        , 0.02654262,\n         0.        , 0.        , 0.        , 0.        , 0.        ,\n         0.        , 0.09025462, 0.        , 0.        , 0.        ,\n         0.        , 0.        , 0.        , 0.        , 0.        ,\n         0.        , 0.        , 0.        , 0.05308525, 0.        ,\n         0.        , 0.        , 0.        , 0.        , 0.        ,\n         0.        , 0.        , 0.        , 0.        , 0.        ,\n         0.58665506, 0.        , 0.        , 0.07020299, 0.        ,\n         0.        , 0.        , 0.        , 0.        , 0.        ,\n         0.        , 0.        , 0.        , 0.07962787, 0.        ,\n         0.        , 0.        , 0.05308525, 0.        , 0.        ,\n         0.        , 0.        , 0.        , 0.        , 0.        ,\n         0.        , 0.        , 0.        , 0.        , 0.        ,\n         0.        , 0.        , 0.        , 0.        , 0.        ,\n         0.        , 0.        , 0.        , 0.        , 0.        ,\n         0.        , 0.        , 0.        , 0.02256366, 0.02256366,\n         0.02256366, 0.04512731, 0.        , 0.        , 0.        ,\n         0.        , 0.        , 0.        , 0.        , 0.        ,\n         0.        , 0.        , 0.        , 0.        , 0.        ,\n         0.02654262, 0.        , 0.05308525, 0.01974053, 0.        ,\n         0.06769097, 0.        , 0.        , 0.        , 0.        ,\n         0.        , 0.        , 0.        , 0.        , 0.        ,\n         0.        , 0.        , 0.        , 0.02256366, 0.        ,\n         0.424682  , 0.        , 0.        , 0.        , 0.        ,\n         0.        , 0.        , 0.        , 0.05308525, 0.        ,\n         0.        , 0.        , 0.        , 0.        , 0.02654262,\n         0.07962787, 0.02256366, 0.        , 0.        , 0.        ,\n         0.        , 0.        , 0.        ]])"
     },
     "execution_count": 7,
     "metadata": {},
     "output_type": "execute_result"
    }
   ],
   "source": [
    "tfidf_matrix.todense()[2]"
   ]
  },
  {
   "cell_type": "markdown",
   "source": [
    "## Классификатор текста на основе модели BERT"
   ],
   "metadata": {
    "collapsed": false,
    "pycharm": {
     "name": "#%% md\n"
    }
   }
  },
  {
   "cell_type": "markdown",
   "source": [
    "### Импорт используемых библиотек"
   ],
   "metadata": {
    "collapsed": false,
    "pycharm": {
     "name": "#%% md\n"
    }
   }
  },
  {
   "cell_type": "code",
   "execution_count": 1,
   "id": "d57a6cb2-a7a2-494f-97b9-76d991ea434a",
   "metadata": {
    "pycharm": {
     "name": "#%%\n"
    }
   },
   "outputs": [
    {
     "data": {
      "text/plain": "device(type='cuda', index=0)"
     },
     "execution_count": 1,
     "metadata": {},
     "output_type": "execute_result"
    }
   ],
   "source": [
    "import re\n",
    "\n",
    "import numpy as np\n",
    "import pandas as pd\n",
    "import matplotlib.pyplot as plt\n",
    "from sklearn.model_selection import train_test_split\n",
    "from sklearn.metrics import accuracy_score, roc_curve, auc\n",
    "\n",
    "from transformers import BertTokenizer, BertModel\n",
    "\n",
    "import torch\n",
    "from torch.utils.data import TensorDataset, DataLoader, RandomSampler, SequentialSampler\n",
    "import torch.nn as nn\n",
    "import torch.nn.functional as F\n",
    "\n",
    "device = torch.device(\"cuda:0\" if torch.cuda.is_available() else \"cpu\")\n",
    "PRE_TRAINED_MODEL_NAME = 'bert-base-uncased'\n",
    "dataset_filename = 'IMDB_Dataset.csv'\n",
    "device"
   ]
  },
  {
   "cell_type": "markdown",
   "source": [
    "### Загрузка и обработка данных"
   ],
   "metadata": {
    "collapsed": false,
    "pycharm": {
     "name": "#%% md\n"
    }
   }
  },
  {
   "cell_type": "code",
   "execution_count": 2,
   "id": "e98eef559405366f",
   "metadata": {
    "ExecuteTime": {
     "end_time": "2023-10-06T13:09:40.951826723Z",
     "start_time": "2023-10-06T13:09:40.931936283Z"
    },
    "collapsed": false,
    "jupyter": {
     "outputs_hidden": false
    },
    "pycharm": {
     "name": "#%%\n"
    }
   },
   "outputs": [
    {
     "data": {
      "text/plain": "                                              review sentiment  sentiment_int\n0  One of the other reviewers has mentioned that ...  positive              0\n1  A wonderful little production. <br /><br />The...  positive              0\n2  I thought this was a wonderful way to spend ti...  positive              0\n3  Basically there's a family where a little boy ...  negative              1\n4  Petter Mattei's \"Love in the Time of Money\" is...  positive              0",
      "text/html": "<div>\n<style scoped>\n    .dataframe tbody tr th:only-of-type {\n        vertical-align: middle;\n    }\n\n    .dataframe tbody tr th {\n        vertical-align: top;\n    }\n\n    .dataframe thead th {\n        text-align: right;\n    }\n</style>\n<table border=\"1\" class=\"dataframe\">\n  <thead>\n    <tr style=\"text-align: right;\">\n      <th></th>\n      <th>review</th>\n      <th>sentiment</th>\n      <th>sentiment_int</th>\n    </tr>\n  </thead>\n  <tbody>\n    <tr>\n      <th>0</th>\n      <td>One of the other reviewers has mentioned that ...</td>\n      <td>positive</td>\n      <td>0</td>\n    </tr>\n    <tr>\n      <th>1</th>\n      <td>A wonderful little production. &lt;br /&gt;&lt;br /&gt;The...</td>\n      <td>positive</td>\n      <td>0</td>\n    </tr>\n    <tr>\n      <th>2</th>\n      <td>I thought this was a wonderful way to spend ti...</td>\n      <td>positive</td>\n      <td>0</td>\n    </tr>\n    <tr>\n      <th>3</th>\n      <td>Basically there's a family where a little boy ...</td>\n      <td>negative</td>\n      <td>1</td>\n    </tr>\n    <tr>\n      <th>4</th>\n      <td>Petter Mattei's \"Love in the Time of Money\" is...</td>\n      <td>positive</td>\n      <td>0</td>\n    </tr>\n  </tbody>\n</table>\n</div>"
     },
     "execution_count": 2,
     "metadata": {},
     "output_type": "execute_result"
    }
   ],
   "source": [
    "df = pd.read_csv(f\"data/{dataset_filename}\")\n",
    "sentiment_int = {'positive' : 0, 'negative': 1}\n",
    "df['sentiment_int'] = df.sentiment.map(sentiment_int)\n",
    "df.head()"
   ]
  },
  {
   "cell_type": "markdown",
   "source": [
    "Делим данные на тренировочную, валидационную и тестовую выборки"
   ],
   "metadata": {
    "collapsed": false,
    "pycharm": {
     "name": "#%% md\n"
    }
   }
  },
  {
   "cell_type": "code",
   "execution_count": 3,
   "outputs": [
    {
     "data": {
      "text/plain": "((40000, 3), (5000, 3), (5000, 3))"
     },
     "execution_count": 3,
     "metadata": {},
     "output_type": "execute_result"
    }
   ],
   "source": [
    "df_train, df_test = train_test_split(df, test_size=0.2, random_state=42)\n",
    "df_val, df_test = train_test_split(df_test, test_size=0.5, random_state=42)\n",
    "df_train.shape, df_val.shape, df_test.shape"
   ],
   "metadata": {
    "collapsed": false,
    "pycharm": {
     "name": "#%%\n"
    }
   }
  },
  {
   "cell_type": "markdown",
   "source": [
    "Выделяем данные по которым будем обучать данные"
   ],
   "metadata": {
    "collapsed": false,
    "pycharm": {
     "name": "#%% md\n"
    }
   }
  },
  {
   "cell_type": "code",
   "execution_count": 4,
   "outputs": [],
   "source": [
    "X, y = df.review, df.sentiment_int\n",
    "X_train = df_train.review.to_numpy()\n",
    "X_val = df_val.review.to_numpy()\n",
    "y_train = df_train.sentiment_int.to_numpy()\n",
    "y_val = df_val.sentiment_int.to_numpy()\n",
    "X_test = df_test.review.to_numpy()\n",
    "y_test = df_test.sentiment_int.to_numpy()"
   ],
   "metadata": {
    "collapsed": false,
    "pycharm": {
     "name": "#%%\n"
    }
   }
  },
  {
   "cell_type": "markdown",
   "source": [
    "Создаем функцию, которая очищает текст рецензии от ссылок, html-тэгов, гиперссылок и тд"
   ],
   "metadata": {
    "collapsed": false,
    "pycharm": {
     "name": "#%% md\n"
    }
   }
  },
  {
   "cell_type": "code",
   "execution_count": 5,
   "outputs": [],
   "source": [
    "def text_preprocessing(temp):\n",
    "    # Remove trailing whitespace\n",
    "    temp = re.sub(\"@\\S+\", \" \", temp)\n",
    "    temp = re.sub(\"https*\\S+\", \" \", temp)\n",
    "    temp = re.sub(\"#\\S+\", \" \", temp)\n",
    "    temp = re.sub(\"\\'\\w+\", '', temp)\n",
    "    temp = re.sub(r'\\w*\\d+\\w*', '', temp)\n",
    "    temp = re.sub('\\s{2,}', \" \", temp)\n",
    "    temp = re.sub(r'<.*?>', '', temp).strip()\n",
    "\n",
    "    return temp"
   ],
   "metadata": {
    "collapsed": false,
    "pycharm": {
     "name": "#%%\n"
    }
   }
  },
  {
   "cell_type": "code",
   "execution_count": 6,
   "outputs": [
    {
     "name": "stdout",
     "output_type": "stream",
     "text": [
      "Original:  One of the other reviewers has mentioned that after watching just 1 Oz episode you'll be hooked. They are right, as this is exactly what happened with me.<br /><br />The first thing that struck me about Oz was its brutality and unflinching scenes of violence, which set in right from the word GO. Trust me, this is not a show for the faint hearted or timid. This show pulls no punches with regards to drugs, sex or violence. Its is hardcore, in the classic use of the word.<br /><br />It is called OZ as that is the nickname given to the Oswald Maximum Security State Penitentary. It focuses mainly on Emerald City, an experimental section of the prison where all the cells have glass fronts and face inwards, so privacy is not high on the agenda. Em City is home to many..Aryans, Muslims, gangstas, Latinos, Christians, Italians, Irish and more....so scuffles, death stares, dodgy dealings and shady agreements are never far away.<br /><br />I would say the main appeal of the show is due to the fact that it goes where other shows wouldn't dare. Forget pretty pictures painted for mainstream audiences, forget charm, forget romance...OZ doesn't mess around. The first episode I ever saw struck me as so nasty it was surreal, I couldn't say I was ready for it, but as I watched more, I developed a taste for Oz, and got accustomed to the high levels of graphic violence. Not just violence, but injustice (crooked guards who'll be sold out for a nickel, inmates who'll kill on order and get away with it, well mannered, middle class inmates being turned into prison bitches due to their lack of street skills or prison experience) Watching Oz, you may become comfortable with what is uncomfortable viewing....thats if you can get in touch with your darker side.\n",
      "\n",
      "Processed:  One of the other reviewers has mentioned that after watching just Oz episode you be hooked. They are right, as this is exactly what happened with me.The first thing that struck me about Oz was its brutality and unflinching scenes of violence, which set in right from the word GO. Trust me, this is not a show for the faint hearted or timid. This show pulls no punches with regards to drugs, sex or violence. Its is hardcore, in the classic use of the word.It is called OZ as that is the nickname given to the Oswald Maximum Security State Penitentary. It focuses mainly on Emerald City, an experimental section of the prison where all the cells have glass fronts and face inwards, so privacy is not high on the agenda. Em City is home to many..Aryans, Muslims, gangstas, Latinos, Christians, Italians, Irish and more....so scuffles, death stares, dodgy dealings and shady agreements are never far away.I would say the main appeal of the show is due to the fact that it goes where other shows wouldn dare. Forget pretty pictures painted for mainstream audiences, forget charm, forget romance...OZ doesn mess around. The first episode I ever saw struck me as so nasty it was surreal, I couldn say I was ready for it, but as I watched more, I developed a taste for Oz, and got accustomed to the high levels of graphic violence. Not just violence, but injustice (crooked guards who be sold out for a nickel, inmates who kill on order and get away with it, well mannered, middle class inmates being turned into prison bitches due to their lack of street skills or prison experience) Watching Oz, you may become comfortable with what is uncomfortable viewing....thats if you can get in touch with your darker side.\n"
     ]
    }
   ],
   "source": [
    "# Print sentence 0\n",
    "print('Original: ', df.review.iloc[0])\n",
    "print()\n",
    "print('Processed: ', text_preprocessing(df.review.iloc[0]))"
   ],
   "metadata": {
    "collapsed": false,
    "pycharm": {
     "name": "#%%\n"
    }
   }
  },
  {
   "cell_type": "markdown",
   "source": [
    "Создадим функцию преобразования текста в тензоры, необходимые для обучения BERT'а (Ограничимся первыми 128 токенами из-за ограничений BERT'a и памяти видеокарты)"
   ],
   "metadata": {
    "collapsed": false,
    "pycharm": {
     "name": "#%% md\n"
    }
   }
  },
  {
   "cell_type": "code",
   "execution_count": 11,
   "outputs": [],
   "source": [
    "# Specify `MAX_LEN`\n",
    "MAX_LEN = 128\n",
    "tokenizer = BertTokenizer.from_pretrained(PRE_TRAINED_MODEL_NAME, do_lower_case=True)\n",
    "\n",
    "def preprocessing_for_bert(data):\n",
    "    \"\"\"Perform required preprocessing steps for pretrained BERT.\n",
    "    @param    data (np.array): Array of texts to be processed.\n",
    "    @return   input_ids (torch.Tensor): Tensor of token ids to be fed to a model.\n",
    "    @return   attention_masks (torch.Tensor): Tensor of indices specifying which\n",
    "                  tokens should be attended to by the model.\n",
    "    \"\"\"\n",
    "    # Create empty lists to store outputs\n",
    "    input_ids = []\n",
    "    attention_masks = []\n",
    "\n",
    "    # For every sentence...\n",
    "    for sent in data:\n",
    "        # `encode_plus` will:\n",
    "        #    (1) Tokenize the sentence\n",
    "        #    (2) Add the `[CLS]` and `[SEP]` token to the start and end\n",
    "        #    (3) Truncate/Pad sentence to max length\n",
    "        #    (4) Map tokens to their IDs\n",
    "        #    (5) Create attention mask\n",
    "        #    (6) Return a dictionary of outputs\n",
    "        encoded_sent = tokenizer.encode_plus(\n",
    "            text=text_preprocessing(sent),  # Preprocess sentence\n",
    "            add_special_tokens=True,        # Add `[CLS]` and `[SEP]`\n",
    "            max_length=MAX_LEN,                  # Max length to truncate/pad\n",
    "            pad_to_max_length=True,                   # Pad sentence to max length\n",
    "            truncation=True,\n",
    "            # return_tensors='pt',           # Return PyTorch tensor\n",
    "            return_attention_mask=True      # Return attention mask\n",
    "            )\n",
    "\n",
    "        # Add the outputs to the lists\n",
    "        input_ids.append(encoded_sent.get('input_ids'))\n",
    "        attention_masks.append(encoded_sent.get('attention_mask'))\n",
    "\n",
    "    # Convert lists to tensors\n",
    "    input_ids = torch.tensor(input_ids)\n",
    "    attention_masks = torch.tensor(attention_masks)\n",
    "\n",
    "    return input_ids, attention_masks"
   ],
   "metadata": {
    "collapsed": false,
    "pycharm": {
     "name": "#%%\n"
    }
   }
  },
  {
   "cell_type": "markdown",
   "source": [
    "Посмотрим как выглядит выход функции препроцессинга токенайзера BERT'a и преобразуем весь тренировочный и валидационный датасеты в нужный формат"
   ],
   "metadata": {
    "collapsed": false,
    "pycharm": {
     "name": "#%% md\n"
    }
   }
  },
  {
   "cell_type": "code",
   "execution_count": 10,
   "outputs": [
    {
     "name": "stderr",
     "output_type": "stream",
     "text": [
      "E:\\projects\\innopolis_ai\\venv\\Lib\\site-packages\\transformers\\tokenization_utils_base.py:2622: FutureWarning: The `pad_to_max_length` argument is deprecated and will be removed in a future version, use `padding=True` or `padding='longest'` to pad to the longest sequence in the batch, or use `padding='max_length'` to pad to a max length. In this case, you can give a specific length with `max_length` (e.g. `max_length=45`) or leave max_length to None to pad to the maximal input size of the model (e.g. 512 for Bert).\n",
      "  warnings.warn(\n"
     ]
    },
    {
     "name": "stdout",
     "output_type": "stream",
     "text": [
      "Original:  One of the other reviewers has mentioned that after watching just 1 Oz episode you'll be hooked. They are right, as this is exactly what happened with me.<br /><br />The first thing that struck me about Oz was its brutality and unflinching scenes of violence, which set in right from the word GO. Trust me, this is not a show for the faint hearted or timid. This show pulls no punches with regards to drugs, sex or violence. Its is hardcore, in the classic use of the word.<br /><br />It is called OZ as that is the nickname given to the Oswald Maximum Security State Penitentary. It focuses mainly on Emerald City, an experimental section of the prison where all the cells have glass fronts and face inwards, so privacy is not high on the agenda. Em City is home to many..Aryans, Muslims, gangstas, Latinos, Christians, Italians, Irish and more....so scuffles, death stares, dodgy dealings and shady agreements are never far away.<br /><br />I would say the main appeal of the show is due to the fact that it goes where other shows wouldn't dare. Forget pretty pictures painted for mainstream audiences, forget charm, forget romance...OZ doesn't mess around. The first episode I ever saw struck me as so nasty it was surreal, I couldn't say I was ready for it, but as I watched more, I developed a taste for Oz, and got accustomed to the high levels of graphic violence. Not just violence, but injustice (crooked guards who'll be sold out for a nickel, inmates who'll kill on order and get away with it, well mannered, middle class inmates being turned into prison bitches due to their lack of street skills or prison experience) Watching Oz, you may become comfortable with what is uncomfortable viewing....thats if you can get in touch with your darker side.\n",
      "Token IDs:  [101, 2028, 1997, 1996, 2060, 15814, 2038, 3855, 2008, 2044, 3666, 2074, 11472, 2792, 2017, 2022, 13322, 1012, 2027, 2024, 2157, 1010, 2004, 2023, 2003, 3599, 2054, 3047, 2007, 2033, 1012, 1996, 2034, 2518, 2008, 4930, 2033, 2055, 11472, 2001, 2049, 24083, 1998, 4895, 10258, 2378, 8450, 5019, 1997, 4808, 1010, 2029, 2275, 1999, 2157, 2013, 1996, 2773, 2175, 1012, 3404, 2033, 1010, 2023, 2003, 2025, 1037, 2265, 2005, 1996, 8143, 18627, 2030, 5199, 3593, 1012, 2023, 2265, 8005, 2053, 17957, 2007, 12362, 2000, 5850, 1010, 3348, 2030, 4808, 1012, 2049, 2003, 13076, 1010, 1999, 1996, 4438, 2224, 1997, 1996, 2773, 1012, 2009, 2003, 2170, 11472, 2004, 2008, 2003, 1996, 8367, 2445, 2000, 1996, 17411, 4555, 3036, 2110, 7279, 4221, 12380, 2854, 1012, 2009, 7679, 3701, 2006, 102]\n",
      "Tokenizing data...\n"
     ]
    }
   ],
   "source": [
    "\n",
    "# Print sentence 0 and its encoded token ids\n",
    "token_ids = list(preprocessing_for_bert([X[0]])[0].squeeze().numpy())\n",
    "print('Original: ', X[0])\n",
    "print('Token IDs: ', token_ids)\n",
    "\n",
    "# Run function `preprocessing_for_bert` on the train set and the validation set\n",
    "print('Tokenizing data...')\n",
    "train_inputs, train_masks = preprocessing_for_bert(X_train)\n",
    "val_inputs, val_masks = preprocessing_for_bert(X_val)"
   ],
   "metadata": {
    "collapsed": false,
    "pycharm": {
     "name": "#%%\n"
    }
   }
  },
  {
   "cell_type": "markdown",
   "source": [
    "Создадим DataLoader'ы для обучения модели по батчам"
   ],
   "metadata": {
    "collapsed": false,
    "pycharm": {
     "name": "#%% md\n"
    }
   }
  },
  {
   "cell_type": "code",
   "execution_count": 11,
   "outputs": [],
   "source": [
    "\n",
    "# Convert other data types to torch.Tensor\n",
    "train_labels = torch.tensor(y_train)\n",
    "val_labels = torch.tensor(y_val)\n",
    "\n",
    "# For fine-tuning BERT, the authors recommend a batch size of 16 or 32.\n",
    "batch_size = 16\n",
    "\n",
    "# Create the DataLoader for our training set\n",
    "train_data = TensorDataset(train_inputs, train_masks, train_labels)\n",
    "train_sampler = RandomSampler(train_data)\n",
    "train_dataloader = DataLoader(train_data, sampler=train_sampler, batch_size=batch_size)\n",
    "\n",
    "# Create the DataLoader for our validation set\n",
    "val_data = TensorDataset(val_inputs, val_masks, val_labels)\n",
    "val_sampler = SequentialSampler(val_data)\n",
    "val_dataloader = DataLoader(val_data, sampler=val_sampler, batch_size=batch_size)"
   ],
   "metadata": {
    "collapsed": false,
    "pycharm": {
     "name": "#%%\n"
    }
   }
  },
  {
   "cell_type": "markdown",
   "source": [
    "### Создание классификатора на основе модели BERT"
   ],
   "metadata": {
    "collapsed": false,
    "pycharm": {
     "name": "#%% md\n"
    }
   }
  },
  {
   "cell_type": "code",
   "execution_count": 18,
   "outputs": [],
   "source": [
    "\n",
    "# Create the BertClassfier class\n",
    "class BertClassifier(nn.Module):\n",
    "    \"\"\"Bert Model for Classification Tasks.\n",
    "    \"\"\"\n",
    "    def __init__(self, freeze_bert=False):\n",
    "        \"\"\"\n",
    "        @param    bert: a BertModel object\n",
    "        @param    classifier: a torch.nn.Module classifier\n",
    "        @param    freeze_bert (bool): Set `False` to fine-tune the BERT model\n",
    "        \"\"\"\n",
    "        super(BertClassifier, self).__init__()\n",
    "        # Specify hidden size of BERT, hidden size of our classifier, and number of labels\n",
    "        D_in, H, D_out = 768, 50, 2\n",
    "\n",
    "        # Instantiate BERT model\n",
    "        self.bert = BertModel.from_pretrained(PRE_TRAINED_MODEL_NAME)\n",
    "\n",
    "        # Instantiate an one-layer feed-forward classifier\n",
    "        self.classifier = nn.Sequential(\n",
    "            nn.Linear(D_in, H),\n",
    "            nn.ReLU(),\n",
    "            nn.Dropout(0.5),\n",
    "            nn.Linear(H, D_out)\n",
    "        )\n",
    "\n",
    "        # Freeze the BERT model\n",
    "        if freeze_bert:\n",
    "            for param in self.bert.parameters():\n",
    "                param.requires_grad = False\n",
    "\n",
    "    def forward(self, input_ids, attention_mask):\n",
    "        \"\"\"\n",
    "        Feed input to BERT and the classifier to compute logits.\n",
    "        @param    input_ids (torch.Tensor): an input tensor with shape (batch_size,\n",
    "                      max_length)\n",
    "        @param    attention_mask (torch.Tensor): a tensor that hold attention mask\n",
    "                      information with shape (batch_size, max_length)\n",
    "        @return   logits (torch.Tensor): an output tensor with shape (batch_size,\n",
    "                      num_labels)\n",
    "        \"\"\"\n",
    "        # Feed input to BERT\n",
    "        outputs = self.bert(input_ids=input_ids,\n",
    "                            attention_mask=attention_mask)\n",
    "\n",
    "        # Extract the last hidden state of the token `[CLS]` for classification task\n",
    "        last_hidden_state_cls = outputs[0][:, 0, :]\n",
    "\n",
    "        # Feed input to classifier to compute logits\n",
    "        logits = self.classifier(last_hidden_state_cls)\n",
    "\n",
    "        return logits"
   ],
   "metadata": {
    "collapsed": false,
    "pycharm": {
     "name": "#%%\n"
    }
   }
  },
  {
   "cell_type": "markdown",
   "source": [
    "### Подготовка шагов обучения: инициализация модели, обучение и валидация"
   ],
   "metadata": {
    "collapsed": false,
    "pycharm": {
     "name": "#%% md\n"
    }
   }
  },
  {
   "cell_type": "code",
   "execution_count": 23,
   "outputs": [],
   "source": [
    "from transformers import AdamW, get_linear_schedule_with_warmup\n",
    "\n",
    "def initialize_model(epochs=3):\n",
    "    \"\"\"Initialize the Bert Classifier, the optimizer and the learning rate scheduler.\n",
    "    \"\"\"\n",
    "    # Instantiate Bert Classifier\n",
    "    bert_classifier = BertClassifier(freeze_bert=False)\n",
    "\n",
    "    # Tell PyTorch to run the model on GPU\n",
    "    bert_classifier.to(device)\n",
    "\n",
    "    # Create the optimizer\n",
    "    optimizer = AdamW(bert_classifier.parameters(),\n",
    "                      lr=5e-5,    # Default learning rate\n",
    "                      eps=1e-8    # Default epsilon value\n",
    "                      )\n",
    "\n",
    "    # Total number of training steps\n",
    "    total_steps = len(train_dataloader) * epochs\n",
    "\n",
    "    # Set up the learning rate scheduler\n",
    "    scheduler = get_linear_schedule_with_warmup(optimizer,\n",
    "                                                num_warmup_steps=0, # Default value\n",
    "                                                num_training_steps=total_steps)\n",
    "    return bert_classifier, optimizer, scheduler"
   ],
   "metadata": {
    "collapsed": false,
    "pycharm": {
     "name": "#%%\n"
    }
   }
  },
  {
   "cell_type": "code",
   "execution_count": 24,
   "outputs": [],
   "source": [
    "import random\n",
    "import time\n",
    "\n",
    "# Specify loss function\n",
    "loss_fn = nn.CrossEntropyLoss()\n",
    "\n",
    "def set_seed(seed_value=42):\n",
    "    \"\"\"Set seed for reproducibility.\n",
    "    \"\"\"\n",
    "    random.seed(seed_value)\n",
    "    np.random.seed(seed_value)\n",
    "    torch.manual_seed(seed_value)\n",
    "    torch.cuda.manual_seed_all(seed_value)\n",
    "\n",
    "def train(model, train_dataloader, val_dataloader=None, epochs=3, evaluation=False):\n",
    "    \"\"\"Train the BertClassifier model.\n",
    "    \"\"\"\n",
    "    # Start training loop\n",
    "    print(\"Start training...\\n\")\n",
    "    for epoch_i in range(epochs):\n",
    "        # =======================================\n",
    "        #               Training\n",
    "        # =======================================\n",
    "        # Print the header of the result table\n",
    "        print(f\"{'Epoch':^7} | {'Batch':^7} | {'Train Loss':^12} | {'Val Loss':^10} | {'Val Acc':^9} | {'Elapsed':^9}\")\n",
    "        print(\"-\"*70)\n",
    "\n",
    "        # Measure the elapsed time of each epoch\n",
    "        t0_epoch, t0_batch = time.time(), time.time()\n",
    "\n",
    "        # Reset tracking variables at the beginning of each epoch\n",
    "        total_loss, batch_loss, batch_counts = 0, 0, 0\n",
    "\n",
    "        # Put the model into the training mode\n",
    "        model.train()\n",
    "\n",
    "        # For each batch of training data...\n",
    "        for step, batch in enumerate(train_dataloader):\n",
    "            batch_counts +=1\n",
    "            # Load batch to GPU\n",
    "            b_input_ids, b_attn_mask, b_labels = tuple(t.to(device) for t in batch)\n",
    "\n",
    "            # Zero out any previously calculated gradients\n",
    "            model.zero_grad()\n",
    "\n",
    "            # Perform a forward pass. This will return logits.\n",
    "            logits = model(b_input_ids, b_attn_mask)\n",
    "\n",
    "            # Compute loss and accumulate the loss values\n",
    "            loss = loss_fn(logits, b_labels)\n",
    "            batch_loss += loss.item()\n",
    "            total_loss += loss.item()\n",
    "\n",
    "            # Perform a backward pass to calculate gradients\n",
    "            loss.backward()\n",
    "\n",
    "            # Clip the norm of the gradients to 1.0 to prevent \"exploding gradients\"\n",
    "            torch.nn.utils.clip_grad_norm_(model.parameters(), 1.0)\n",
    "\n",
    "            # Update parameters and the learning rate\n",
    "            optimizer.step()\n",
    "            scheduler.step()\n",
    "\n",
    "            # Print the loss values and time elapsed for every 20 batches\n",
    "            if (step % 20 == 0 and step != 0) or (step == len(train_dataloader) - 1):\n",
    "                # Calculate time elapsed for 20 batches\n",
    "                time_elapsed = time.time() - t0_batch\n",
    "\n",
    "                # Print training results\n",
    "                print(f\"{epoch_i + 1:^7} | {step:^7} | {batch_loss / batch_counts:^12.6f} | {'-':^10} | {'-':^9} | {time_elapsed:^9.2f}\")\n",
    "\n",
    "                # Reset batch tracking variables\n",
    "                batch_loss, batch_counts = 0, 0\n",
    "                t0_batch = time.time()\n",
    "\n",
    "        # Calculate the average loss over the entire training data\n",
    "        avg_train_loss = total_loss / len(train_dataloader)\n",
    "\n",
    "        print(\"-\"*70)\n",
    "        # =======================================\n",
    "        #               Evaluation\n",
    "        # =======================================\n",
    "        if evaluation == True:\n",
    "            # After the completion of each training epoch, measure the model's performance\n",
    "            # on our validation set.\n",
    "            val_loss, val_accuracy = evaluate(model, val_dataloader)\n",
    "\n",
    "            # Print performance over the entire training data\n",
    "            time_elapsed = time.time() - t0_epoch\n",
    "\n",
    "            print(f\"{epoch_i + 1:^7} | {'-':^7} | {avg_train_loss:^12.6f} | {val_loss:^10.6f} | {val_accuracy:^9.2f} | {time_elapsed:^9.2f}\")\n",
    "            print(\"-\"*70)\n",
    "        print(\"\\n\")\n",
    "\n",
    "    print(\"Training complete!\")\n",
    "\n",
    "\n",
    "def evaluate(model, val_dataloader):\n",
    "    \"\"\"After the completion of each training epoch, measure the model's performance\n",
    "    on our validation set.\n",
    "    \"\"\"\n",
    "    # Put the model into the evaluation mode. The dropout layers are disabled during\n",
    "    # the test time.\n",
    "    model.eval()\n",
    "\n",
    "    # Tracking variables\n",
    "    val_accuracy = []\n",
    "    val_loss = []\n",
    "\n",
    "    # For each batch in our validation set...\n",
    "    for batch in val_dataloader:\n",
    "        # Load batch to GPU\n",
    "        b_input_ids, b_attn_mask, b_labels = tuple(t.to(device) for t in batch)\n",
    "\n",
    "        # Compute logits\n",
    "        with torch.no_grad():\n",
    "            logits = model(b_input_ids, b_attn_mask)\n",
    "\n",
    "        # Compute loss\n",
    "        loss = loss_fn(logits, b_labels)\n",
    "        val_loss.append(loss.item())\n",
    "\n",
    "        # Get the predictions\n",
    "        preds = torch.argmax(logits, dim=1).flatten()\n",
    "\n",
    "        # Calculate the accuracy rate\n",
    "        accuracy = (preds == b_labels).cpu().numpy().mean() * 100\n",
    "        val_accuracy.append(accuracy)\n",
    "\n",
    "    # Compute the average accuracy and loss over the validation set.\n",
    "    val_loss = np.mean(val_loss)\n",
    "    val_accuracy = np.mean(val_accuracy)\n",
    "\n",
    "    return val_loss, val_accuracy"
   ],
   "metadata": {
    "collapsed": false,
    "pycharm": {
     "name": "#%%\n"
    }
   }
  },
  {
   "cell_type": "markdown",
   "source": [
    "### Запуск обучения"
   ],
   "metadata": {
    "collapsed": false,
    "pycharm": {
     "name": "#%% md\n"
    }
   }
  },
  {
   "cell_type": "code",
   "execution_count": 25,
   "outputs": [
    {
     "name": "stdout",
     "output_type": "stream",
     "text": [
      "Start training...\n",
      "\n",
      " Epoch  |  Batch  |  Train Loss  |  Val Loss  |  Val Acc  |  Elapsed \n",
      "----------------------------------------------------------------------\n",
      "   1    |   20    |   0.693587   |     -      |     -     |   23.47  \n",
      "   1    |   40    |   0.639569   |     -      |     -     |   15.32  \n",
      "   1    |   60    |   0.474205   |     -      |     -     |   15.36  \n",
      "   1    |   80    |   0.377885   |     -      |     -     |   15.40  \n",
      "   1    |   100   |   0.471322   |     -      |     -     |   15.44  \n",
      "   1    |   120   |   0.454397   |     -      |     -     |   15.42  \n",
      "   1    |   140   |   0.422884   |     -      |     -     |   15.42  \n",
      "   1    |   160   |   0.542972   |     -      |     -     |   15.40  \n",
      "   1    |   180   |   0.417371   |     -      |     -     |   15.48  \n",
      "   1    |   200   |   0.392278   |     -      |     -     |   15.47  \n",
      "   1    |   220   |   0.491655   |     -      |     -     |   15.45  \n",
      "   1    |   240   |   0.467871   |     -      |     -     |   15.70  \n",
      "   1    |   260   |   0.489360   |     -      |     -     |   15.46  \n",
      "   1    |   280   |   0.437172   |     -      |     -     |   15.45  \n",
      "   1    |   300   |   0.366070   |     -      |     -     |   15.47  \n",
      "   1    |   320   |   0.378491   |     -      |     -     |   15.45  \n",
      "   1    |   340   |   0.337136   |     -      |     -     |   15.44  \n",
      "   1    |   360   |   0.370011   |     -      |     -     |   15.45  \n",
      "   1    |   380   |   0.383193   |     -      |     -     |   15.45  \n",
      "   1    |   400   |   0.308447   |     -      |     -     |   15.44  \n",
      "   1    |   420   |   0.312472   |     -      |     -     |   15.45  \n",
      "   1    |   440   |   0.388279   |     -      |     -     |   15.45  \n",
      "   1    |   460   |   0.357737   |     -      |     -     |   15.43  \n",
      "   1    |   480   |   0.348407   |     -      |     -     |   15.45  \n",
      "   1    |   500   |   0.390026   |     -      |     -     |   15.45  \n",
      "   1    |   520   |   0.283323   |     -      |     -     |   15.44  \n",
      "   1    |   540   |   0.309248   |     -      |     -     |   15.45  \n",
      "   1    |   560   |   0.384973   |     -      |     -     |   15.44  \n",
      "   1    |   580   |   0.314395   |     -      |     -     |   15.47  \n",
      "   1    |   600   |   0.362152   |     -      |     -     |   15.46  \n",
      "   1    |   620   |   0.323534   |     -      |     -     |   15.44  \n",
      "   1    |   640   |   0.347733   |     -      |     -     |   15.45  \n",
      "   1    |   660   |   0.352589   |     -      |     -     |   15.43  \n",
      "   1    |   680   |   0.402657   |     -      |     -     |   15.44  \n",
      "   1    |   700   |   0.259031   |     -      |     -     |   15.47  \n",
      "   1    |   720   |   0.393532   |     -      |     -     |   15.44  \n",
      "   1    |   740   |   0.369390   |     -      |     -     |   15.46  \n",
      "   1    |   760   |   0.402430   |     -      |     -     |   15.47  \n",
      "   1    |   780   |   0.416841   |     -      |     -     |   15.46  \n",
      "   1    |   800   |   0.364657   |     -      |     -     |   15.44  \n",
      "   1    |   820   |   0.332798   |     -      |     -     |   15.45  \n",
      "   1    |   840   |   0.363830   |     -      |     -     |   15.44  \n",
      "   1    |   860   |   0.339016   |     -      |     -     |   15.45  \n",
      "   1    |   880   |   0.295778   |     -      |     -     |   15.45  \n",
      "   1    |   900   |   0.357155   |     -      |     -     |   15.45  \n",
      "   1    |   920   |   0.342589   |     -      |     -     |   15.45  \n",
      "   1    |   940   |   0.368738   |     -      |     -     |   15.47  \n",
      "   1    |   960   |   0.337360   |     -      |     -     |   15.45  \n",
      "   1    |   980   |   0.374838   |     -      |     -     |   15.44  \n",
      "   1    |  1000   |   0.311251   |     -      |     -     |   15.46  \n",
      "   1    |  1020   |   0.337874   |     -      |     -     |   15.43  \n",
      "   1    |  1040   |   0.345342   |     -      |     -     |   15.46  \n",
      "   1    |  1060   |   0.420951   |     -      |     -     |   15.45  \n",
      "   1    |  1080   |   0.250970   |     -      |     -     |   15.47  \n",
      "   1    |  1100   |   0.331426   |     -      |     -     |   15.47  \n",
      "   1    |  1120   |   0.372065   |     -      |     -     |   15.48  \n",
      "   1    |  1140   |   0.312578   |     -      |     -     |   15.47  \n",
      "   1    |  1160   |   0.332700   |     -      |     -     |   15.47  \n",
      "   1    |  1180   |   0.303556   |     -      |     -     |   15.49  \n",
      "   1    |  1200   |   0.305676   |     -      |     -     |   15.47  \n",
      "   1    |  1220   |   0.336113   |     -      |     -     |   15.50  \n",
      "   1    |  1240   |   0.314765   |     -      |     -     |   15.50  \n",
      "   1    |  1260   |   0.374693   |     -      |     -     |   15.48  \n",
      "   1    |  1280   |   0.362869   |     -      |     -     |   15.54  \n",
      "   1    |  1300   |   0.290422   |     -      |     -     |   15.50  \n",
      "   1    |  1320   |   0.326363   |     -      |     -     |   15.50  \n",
      "   1    |  1340   |   0.340375   |     -      |     -     |   15.47  \n",
      "   1    |  1360   |   0.306056   |     -      |     -     |   15.50  \n",
      "   1    |  1380   |   0.376398   |     -      |     -     |   15.50  \n",
      "   1    |  1400   |   0.352629   |     -      |     -     |   15.47  \n",
      "   1    |  1420   |   0.350543   |     -      |     -     |   15.47  \n",
      "   1    |  1440   |   0.304181   |     -      |     -     |   15.48  \n",
      "   1    |  1460   |   0.308679   |     -      |     -     |   15.51  \n",
      "   1    |  1480   |   0.324802   |     -      |     -     |   15.46  \n",
      "   1    |  1500   |   0.311667   |     -      |     -     |   15.48  \n",
      "   1    |  1520   |   0.259397   |     -      |     -     |   15.47  \n",
      "   1    |  1540   |   0.328113   |     -      |     -     |   15.48  \n",
      "   1    |  1560   |   0.343932   |     -      |     -     |   15.47  \n",
      "   1    |  1580   |   0.341240   |     -      |     -     |   15.47  \n",
      "   1    |  1600   |   0.377277   |     -      |     -     |   15.49  \n",
      "   1    |  1620   |   0.338775   |     -      |     -     |   15.45  \n",
      "   1    |  1640   |   0.342923   |     -      |     -     |   15.46  \n",
      "   1    |  1660   |   0.247950   |     -      |     -     |   15.48  \n",
      "   1    |  1680   |   0.321227   |     -      |     -     |   15.43  \n",
      "   1    |  1700   |   0.304623   |     -      |     -     |   15.45  \n",
      "   1    |  1720   |   0.341170   |     -      |     -     |   15.46  \n",
      "   1    |  1740   |   0.272665   |     -      |     -     |   15.45  \n",
      "   1    |  1760   |   0.335738   |     -      |     -     |   15.46  \n",
      "   1    |  1780   |   0.368730   |     -      |     -     |   15.47  \n",
      "   1    |  1800   |   0.271429   |     -      |     -     |   15.46  \n",
      "   1    |  1820   |   0.289034   |     -      |     -     |   15.47  \n",
      "   1    |  1840   |   0.316062   |     -      |     -     |   15.48  \n",
      "   1    |  1860   |   0.275790   |     -      |     -     |   15.47  \n",
      "   1    |  1880   |   0.301832   |     -      |     -     |   15.47  \n",
      "   1    |  1900   |   0.364925   |     -      |     -     |   15.48  \n",
      "   1    |  1920   |   0.263313   |     -      |     -     |   15.44  \n",
      "   1    |  1940   |   0.408931   |     -      |     -     |   15.47  \n",
      "   1    |  1960   |   0.257841   |     -      |     -     |   15.48  \n",
      "   1    |  1980   |   0.260538   |     -      |     -     |   15.48  \n",
      "   1    |  2000   |   0.314092   |     -      |     -     |   15.47  \n",
      "   1    |  2020   |   0.309728   |     -      |     -     |   15.47  \n",
      "   1    |  2040   |   0.310888   |     -      |     -     |   15.46  \n",
      "   1    |  2060   |   0.281562   |     -      |     -     |   15.46  \n",
      "   1    |  2080   |   0.302343   |     -      |     -     |   15.47  \n",
      "   1    |  2100   |   0.308500   |     -      |     -     |   15.48  \n",
      "   1    |  2120   |   0.305413   |     -      |     -     |   15.62  \n",
      "   1    |  2140   |   0.293600   |     -      |     -     |   15.51  \n",
      "   1    |  2160   |   0.289023   |     -      |     -     |   15.47  \n",
      "   1    |  2180   |   0.322350   |     -      |     -     |   15.49  \n",
      "   1    |  2200   |   0.305601   |     -      |     -     |   15.51  \n",
      "   1    |  2220   |   0.251217   |     -      |     -     |   15.53  \n",
      "   1    |  2240   |   0.335180   |     -      |     -     |   15.48  \n",
      "   1    |  2260   |   0.335678   |     -      |     -     |   15.47  \n",
      "   1    |  2280   |   0.306993   |     -      |     -     |   15.49  \n",
      "   1    |  2300   |   0.238060   |     -      |     -     |   15.53  \n",
      "   1    |  2320   |   0.279559   |     -      |     -     |   15.49  \n",
      "   1    |  2340   |   0.301184   |     -      |     -     |   15.53  \n",
      "   1    |  2360   |   0.319346   |     -      |     -     |   15.55  \n",
      "   1    |  2380   |   0.322222   |     -      |     -     |   15.49  \n",
      "   1    |  2400   |   0.366364   |     -      |     -     |   15.50  \n",
      "   1    |  2420   |   0.228191   |     -      |     -     |   15.49  \n",
      "   1    |  2440   |   0.267602   |     -      |     -     |   15.48  \n",
      "   1    |  2460   |   0.279973   |     -      |     -     |   15.52  \n",
      "   1    |  2480   |   0.329638   |     -      |     -     |   15.46  \n",
      "   1    |  2499   |   0.209487   |     -      |     -     |   14.73  \n",
      "----------------------------------------------------------------------\n",
      "   1    |    -    |   0.343902   |  0.333185  |   87.92   |  2047.73 \n",
      "----------------------------------------------------------------------\n",
      "\n",
      "\n",
      " Epoch  |  Batch  |  Train Loss  |  Val Loss  |  Val Acc  |  Elapsed \n",
      "----------------------------------------------------------------------\n",
      "   2    |   20    |   0.184759   |     -      |     -     |   15.88  \n",
      "   2    |   40    |   0.147962   |     -      |     -     |   15.51  \n",
      "   2    |   60    |   0.215622   |     -      |     -     |   15.47  \n",
      "   2    |   80    |   0.190372   |     -      |     -     |   15.48  \n",
      "   2    |   100   |   0.214594   |     -      |     -     |   15.47  \n",
      "   2    |   120   |   0.203503   |     -      |     -     |   15.50  \n",
      "   2    |   140   |   0.188371   |     -      |     -     |   15.47  \n",
      "   2    |   160   |   0.168407   |     -      |     -     |   15.53  \n",
      "   2    |   180   |   0.204809   |     -      |     -     |   15.47  \n",
      "   2    |   200   |   0.257718   |     -      |     -     |   15.50  \n",
      "   2    |   220   |   0.196601   |     -      |     -     |   15.49  \n",
      "   2    |   240   |   0.189561   |     -      |     -     |   15.46  \n",
      "   2    |   260   |   0.191365   |     -      |     -     |   15.47  \n",
      "   2    |   280   |   0.178921   |     -      |     -     |   15.48  \n",
      "   2    |   300   |   0.202071   |     -      |     -     |   15.47  \n",
      "   2    |   320   |   0.171153   |     -      |     -     |   15.48  \n",
      "   2    |   340   |   0.211911   |     -      |     -     |   15.49  \n",
      "   2    |   360   |   0.305286   |     -      |     -     |   15.46  \n",
      "   2    |   380   |   0.210608   |     -      |     -     |   15.46  \n",
      "   2    |   400   |   0.209192   |     -      |     -     |   15.45  \n",
      "   2    |   420   |   0.277615   |     -      |     -     |   15.47  \n",
      "   2    |   440   |   0.173123   |     -      |     -     |   15.46  \n",
      "   2    |   460   |   0.186789   |     -      |     -     |   15.45  \n",
      "   2    |   480   |   0.270576   |     -      |     -     |   15.48  \n",
      "   2    |   500   |   0.230595   |     -      |     -     |   15.46  \n",
      "   2    |   520   |   0.114760   |     -      |     -     |   15.49  \n",
      "   2    |   540   |   0.151791   |     -      |     -     |   15.46  \n",
      "   2    |   560   |   0.249292   |     -      |     -     |   15.48  \n",
      "   2    |   580   |   0.281891   |     -      |     -     |   15.44  \n",
      "   2    |   600   |   0.126569   |     -      |     -     |   15.45  \n",
      "   2    |   620   |   0.220358   |     -      |     -     |   15.49  \n",
      "   2    |   640   |   0.171228   |     -      |     -     |   15.51  \n",
      "   2    |   660   |   0.149465   |     -      |     -     |   15.47  \n",
      "   2    |   680   |   0.140610   |     -      |     -     |   15.47  \n",
      "   2    |   700   |   0.215632   |     -      |     -     |   15.49  \n",
      "   2    |   720   |   0.237789   |     -      |     -     |   15.46  \n",
      "   2    |   740   |   0.167609   |     -      |     -     |   15.50  \n",
      "   2    |   760   |   0.146301   |     -      |     -     |   15.46  \n",
      "   2    |   780   |   0.166662   |     -      |     -     |   15.44  \n",
      "   2    |   800   |   0.247107   |     -      |     -     |   15.45  \n",
      "   2    |   820   |   0.154813   |     -      |     -     |   15.43  \n",
      "   2    |   840   |   0.143831   |     -      |     -     |   15.45  \n",
      "   2    |   860   |   0.161982   |     -      |     -     |   15.48  \n",
      "   2    |   880   |   0.229518   |     -      |     -     |   15.43  \n",
      "   2    |   900   |   0.286110   |     -      |     -     |   15.45  \n",
      "   2    |   920   |   0.147293   |     -      |     -     |   15.45  \n",
      "   2    |   940   |   0.190558   |     -      |     -     |   15.47  \n",
      "   2    |   960   |   0.279792   |     -      |     -     |   15.46  \n",
      "   2    |   980   |   0.169658   |     -      |     -     |   15.47  \n",
      "   2    |  1000   |   0.189539   |     -      |     -     |   15.43  \n",
      "   2    |  1020   |   0.167840   |     -      |     -     |   15.45  \n",
      "   2    |  1040   |   0.189134   |     -      |     -     |   15.45  \n",
      "   2    |  1060   |   0.146706   |     -      |     -     |   15.44  \n",
      "   2    |  1080   |   0.187373   |     -      |     -     |   15.46  \n",
      "   2    |  1100   |   0.163453   |     -      |     -     |   15.44  \n",
      "   2    |  1120   |   0.166808   |     -      |     -     |   15.46  \n",
      "   2    |  1140   |   0.302299   |     -      |     -     |   15.45  \n",
      "   2    |  1160   |   0.205714   |     -      |     -     |   15.46  \n",
      "   2    |  1180   |   0.182365   |     -      |     -     |   15.44  \n",
      "   2    |  1200   |   0.240374   |     -      |     -     |   15.46  \n",
      "   2    |  1220   |   0.205464   |     -      |     -     |   15.46  \n",
      "   2    |  1240   |   0.192655   |     -      |     -     |   15.47  \n",
      "   2    |  1260   |   0.145199   |     -      |     -     |   15.44  \n",
      "   2    |  1280   |   0.116994   |     -      |     -     |   15.44  \n",
      "   2    |  1300   |   0.145301   |     -      |     -     |   15.44  \n",
      "   2    |  1320   |   0.244833   |     -      |     -     |   15.45  \n",
      "   2    |  1340   |   0.222944   |     -      |     -     |   15.44  \n",
      "   2    |  1360   |   0.135291   |     -      |     -     |   15.44  \n",
      "   2    |  1380   |   0.139913   |     -      |     -     |   15.45  \n",
      "   2    |  1400   |   0.223436   |     -      |     -     |   15.45  \n",
      "   2    |  1420   |   0.203563   |     -      |     -     |   15.45  \n",
      "   2    |  1440   |   0.095889   |     -      |     -     |   15.44  \n",
      "   2    |  1460   |   0.254641   |     -      |     -     |   15.43  \n",
      "   2    |  1480   |   0.250598   |     -      |     -     |   15.43  \n",
      "   2    |  1500   |   0.131529   |     -      |     -     |   15.44  \n",
      "   2    |  1520   |   0.160696   |     -      |     -     |   15.46  \n",
      "   2    |  1540   |   0.106170   |     -      |     -     |   15.42  \n",
      "   2    |  1560   |   0.153268   |     -      |     -     |   15.45  \n",
      "   2    |  1580   |   0.159379   |     -      |     -     |   15.41  \n",
      "   2    |  1600   |   0.101168   |     -      |     -     |   15.44  \n",
      "   2    |  1620   |   0.234365   |     -      |     -     |   15.44  \n",
      "   2    |  1640   |   0.151853   |     -      |     -     |   15.46  \n",
      "   2    |  1660   |   0.136342   |     -      |     -     |   15.41  \n",
      "   2    |  1680   |   0.196686   |     -      |     -     |   15.44  \n",
      "   2    |  1700   |   0.137793   |     -      |     -     |   15.39  \n",
      "   2    |  1720   |   0.238287   |     -      |     -     |   15.46  \n",
      "   2    |  1740   |   0.164201   |     -      |     -     |   15.43  \n",
      "   2    |  1760   |   0.274757   |     -      |     -     |   15.44  \n",
      "   2    |  1780   |   0.129594   |     -      |     -     |   15.43  \n",
      "   2    |  1800   |   0.175907   |     -      |     -     |   15.44  \n",
      "   2    |  1820   |   0.153692   |     -      |     -     |   15.44  \n",
      "   2    |  1840   |   0.312055   |     -      |     -     |   15.42  \n",
      "   2    |  1860   |   0.172617   |     -      |     -     |   15.44  \n",
      "   2    |  1880   |   0.225152   |     -      |     -     |   15.44  \n",
      "   2    |  1900   |   0.159832   |     -      |     -     |   15.45  \n",
      "   2    |  1920   |   0.170562   |     -      |     -     |   15.38  \n",
      "   2    |  1940   |   0.116532   |     -      |     -     |   15.43  \n",
      "   2    |  1960   |   0.205204   |     -      |     -     |   15.42  \n",
      "   2    |  1980   |   0.212478   |     -      |     -     |   15.44  \n",
      "   2    |  2000   |   0.161614   |     -      |     -     |   15.43  \n",
      "   2    |  2020   |   0.178201   |     -      |     -     |   15.43  \n",
      "   2    |  2040   |   0.149826   |     -      |     -     |   15.44  \n",
      "   2    |  2060   |   0.185775   |     -      |     -     |   15.43  \n",
      "   2    |  2080   |   0.197823   |     -      |     -     |   15.45  \n",
      "   2    |  2100   |   0.132398   |     -      |     -     |   15.42  \n",
      "   2    |  2120   |   0.143357   |     -      |     -     |   15.44  \n",
      "   2    |  2140   |   0.278212   |     -      |     -     |   15.42  \n",
      "   2    |  2160   |   0.155117   |     -      |     -     |   15.42  \n",
      "   2    |  2180   |   0.136205   |     -      |     -     |   15.42  \n",
      "   2    |  2200   |   0.213597   |     -      |     -     |   15.43  \n",
      "   2    |  2220   |   0.180109   |     -      |     -     |   15.43  \n",
      "   2    |  2240   |   0.122380   |     -      |     -     |   15.43  \n",
      "   2    |  2260   |   0.240935   |     -      |     -     |   15.43  \n",
      "   2    |  2280   |   0.212858   |     -      |     -     |   15.42  \n",
      "   2    |  2300   |   0.185139   |     -      |     -     |   15.45  \n",
      "   2    |  2320   |   0.201411   |     -      |     -     |   15.39  \n",
      "   2    |  2340   |   0.159926   |     -      |     -     |   15.42  \n",
      "   2    |  2360   |   0.196666   |     -      |     -     |   15.41  \n",
      "   2    |  2380   |   0.166095   |     -      |     -     |   15.42  \n",
      "   2    |  2400   |   0.164881   |     -      |     -     |   15.41  \n",
      "   2    |  2420   |   0.292075   |     -      |     -     |   15.44  \n",
      "   2    |  2440   |   0.210176   |     -      |     -     |   15.45  \n",
      "   2    |  2460   |   0.188568   |     -      |     -     |   15.43  \n",
      "   2    |  2480   |   0.144633   |     -      |     -     |   15.41  \n",
      "   2    |  2499   |   0.142751   |     -      |     -     |   14.65  \n",
      "----------------------------------------------------------------------\n",
      "   2    |    -    |   0.188587   |  0.338789  |   89.90   |  2037.58 \n",
      "----------------------------------------------------------------------\n",
      "\n",
      "\n",
      "Training complete!\n"
     ]
    }
   ],
   "source": [
    "set_seed(42)    # Set seed for reproducibility\n",
    "bert_classifier, optimizer, scheduler = initialize_model(epochs=2)\n",
    "train(bert_classifier, train_dataloader, val_dataloader, epochs=2, evaluation=True)"
   ],
   "metadata": {
    "collapsed": false,
    "pycharm": {
     "name": "#%%\n"
    }
   }
  },
  {
   "cell_type": "markdown",
   "source": [
    "### Оценка модели"
   ],
   "metadata": {
    "collapsed": false,
    "pycharm": {
     "name": "#%% md\n"
    }
   }
  },
  {
   "cell_type": "markdown",
   "source": [
    "По этапам валидационной проверки, данная модель показывает результаты по метрике accuracy - 89.9, довольно неплохой результат.\n",
    "Создадим функцию для получения вероятностей предсказания для построения ROC-AUC"
   ],
   "metadata": {
    "collapsed": false,
    "pycharm": {
     "name": "#%% md\n"
    }
   }
  },
  {
   "cell_type": "code",
   "execution_count": 16,
   "outputs": [],
   "source": [
    "\n",
    "def bert_predict(model, test_dataloader):\n",
    "    \"\"\"Perform a forward pass on the trained BERT model to predict probabilities\n",
    "    on the test set.\n",
    "    \"\"\"\n",
    "    # Put the model into the evaluation mode. The dropout layers are disabled during\n",
    "    # the test time.\n",
    "    model.eval()\n",
    "\n",
    "    all_logits = []\n",
    "\n",
    "    # For each batch in our test set...\n",
    "    for batch in test_dataloader:\n",
    "        # Load batch to GPU\n",
    "        b_input_ids, b_attn_mask = tuple(t.to(device) for t in batch)[:2]\n",
    "\n",
    "        # Compute logits\n",
    "        with torch.no_grad():\n",
    "            logits = model(b_input_ids, b_attn_mask)\n",
    "        all_logits.append(logits)\n",
    "\n",
    "    # Concatenate logits from each batch\n",
    "    all_logits = torch.cat(all_logits, dim=0)\n",
    "\n",
    "    # Apply softmax to calculate probabilities\n",
    "    probs = F.softmax(all_logits, dim=1).cpu().numpy()\n",
    "\n",
    "    return probs"
   ],
   "metadata": {
    "collapsed": false,
    "pycharm": {
     "name": "#%%\n"
    }
   }
  },
  {
   "cell_type": "markdown",
   "source": [
    "Функция для построения и расчета ROC-AUC"
   ],
   "metadata": {
    "collapsed": false,
    "pycharm": {
     "name": "#%% md\n"
    }
   }
  },
  {
   "cell_type": "code",
   "execution_count": 25,
   "outputs": [],
   "source": [
    "\n",
    "def evaluate_roc(probs, y_true):\n",
    "    \"\"\"\n",
    "    - Print AUC and accuracy on the test set\n",
    "    - Plot ROC\n",
    "    @params    probs (np.array): an array of predicted probabilities with shape (len(y_true), 2)\n",
    "    @params    y_true (np.array): an array of the true values with shape (len(y_true),)\n",
    "    \"\"\"\n",
    "    preds = probs[:, 1]\n",
    "    fpr, tpr, threshold = roc_curve(y_true, preds)\n",
    "    roc_auc = auc(fpr, tpr)\n",
    "    print(f'AUC: {roc_auc:.4f}')\n",
    "\n",
    "    # Get accuracy over the test set\n",
    "    y_pred = np.where(preds >= 0.5, 1, 0)\n",
    "    accuracy = accuracy_score(y_true, y_pred)\n",
    "    print(f'Accuracy: {accuracy*100:.2f}%')\n",
    "\n",
    "    # Plot ROC AUC\n",
    "    plt.title('Receiver Operating Characteristic')\n",
    "    plt.plot(fpr, tpr, 'b', label = 'AUC = %0.2f' % roc_auc)\n",
    "    plt.legend(loc = 'lower right')\n",
    "    plt.plot([0, 1], [0, 1],'r--')\n",
    "    plt.xlim([0, 1])\n",
    "    plt.ylim([0, 1])\n",
    "    plt.ylabel('True Positive Rate')\n",
    "    plt.xlabel('False Positive Rate')\n",
    "    plt.show()"
   ],
   "metadata": {
    "collapsed": false,
    "pycharm": {
     "name": "#%%\n"
    }
   }
  },
  {
   "cell_type": "code",
   "execution_count": 28,
   "outputs": [
    {
     "name": "stdout",
     "output_type": "stream",
     "text": [
      "AUC: 0.9646\n",
      "Accuracy: 89.88%\n"
     ]
    },
    {
     "data": {
      "text/plain": "<Figure size 1200x800 with 1 Axes>",
      "image/png": "[encoded data removed]"
     },
     "metadata": {
      "image/png": {
       "width": 1024,
       "height": 712
      }
     },
     "output_type": "display_data"
    }
   ],
   "source": [
    "# Compute predicted probabilities on the test set\n",
    "probs = bert_predict(bert_classifier, val_dataloader)\n",
    "\n",
    "# Evaluate the Bert classifier\n",
    "evaluate_roc(probs, y_val)"
   ],
   "metadata": {
    "collapsed": false,
    "pycharm": {
     "name": "#%%\n"
    }
   }
  },
  {
   "cell_type": "markdown",
   "source": [
    "Подготовим данные для теста"
   ],
   "metadata": {
    "collapsed": false,
    "pycharm": {
     "name": "#%% md\n"
    }
   }
  },
  {
   "cell_type": "code",
   "execution_count": 12,
   "outputs": [
    {
     "name": "stdout",
     "output_type": "stream",
     "text": [
      "Tokenizing data...\n"
     ]
    },
    {
     "name": "stderr",
     "output_type": "stream",
     "text": [
      "E:\\projects\\innopolis_ai\\venv\\Lib\\site-packages\\transformers\\tokenization_utils_base.py:2622: FutureWarning: The `pad_to_max_length` argument is deprecated and will be removed in a future version, use `padding=True` or `padding='longest'` to pad to the longest sequence in the batch, or use `padding='max_length'` to pad to a max length. In this case, you can give a specific length with `max_length` (e.g. `max_length=45`) or leave max_length to None to pad to the maximal input size of the model (e.g. 512 for Bert).\n",
      "  warnings.warn(\n"
     ]
    }
   ],
   "source": [
    "# Run `preprocessing_for_bert` on the test set\n",
    "print('Tokenizing data...')\n",
    "test_inputs, test_masks = preprocessing_for_bert(X_test)\n",
    "\n",
    "# Create the DataLoader for our test set\n",
    "test_dataset = TensorDataset(test_inputs, test_masks)\n",
    "test_sampler = SequentialSampler(test_dataset)\n",
    "test_dataloader = DataLoader(test_dataset, sampler=test_sampler, batch_size=16)"
   ],
   "metadata": {
    "collapsed": false,
    "pycharm": {
     "name": "#%%\n"
    }
   }
  },
  {
   "cell_type": "markdown",
   "source": [
    "Рассмотрим разницу между количеством полученных меток в тесте и в предикте и построим ROC-AUC"
   ],
   "metadata": {
    "collapsed": false,
    "pycharm": {
     "name": "#%% md\n"
    }
   }
  },
  {
   "cell_type": "code",
   "execution_count": 24,
   "outputs": [
    {
     "name": "stdout",
     "output_type": "stream",
     "text": [
      "Number of review predicted non-negative:  2247\n",
      "2462\n"
     ]
    },
    {
     "ename": "NameError",
     "evalue": "name 'evaluate_roc' is not defined",
     "output_type": "error",
     "traceback": [
      "\u001B[1;31m---------------------------------------------------------------------------\u001B[0m",
      "\u001B[1;31mNameError\u001B[0m                                 Traceback (most recent call last)",
      "Cell \u001B[1;32mIn[24], line 11\u001B[0m\n\u001B[0;32m      9\u001B[0m \u001B[38;5;28mprint\u001B[39m(\u001B[38;5;124m\"\u001B[39m\u001B[38;5;124mNumber of review predicted non-negative: \u001B[39m\u001B[38;5;124m\"\u001B[39m, preds\u001B[38;5;241m.\u001B[39msum())\n\u001B[0;32m     10\u001B[0m \u001B[38;5;28mprint\u001B[39m(y_test\u001B[38;5;241m.\u001B[39msum())\n\u001B[1;32m---> 11\u001B[0m \u001B[43mevaluate_roc\u001B[49m(probs, y_test)\n",
      "\u001B[1;31mNameError\u001B[0m: name 'evaluate_roc' is not defined"
     ]
    }
   ],
   "source": [
    "# Compute predicted probabilities on the test set\n",
    "probs = bert_predict(bert_classifier, test_dataloader)\n",
    "\n",
    "# Get predictions from the probabilities\n",
    "threshold = 0.9\n",
    "preds = np.where(probs[:, 1] > threshold, 1, 0)\n",
    "\n",
    "# Number of review predicted non-negative\n",
    "print(\"Number of review predicted non-negative: \", preds.sum())\n",
    "print(y_test.sum())\n"
   ],
   "metadata": {
    "collapsed": false,
    "pycharm": {
     "name": "#%%\n"
    }
   }
  },
  {
   "cell_type": "code",
   "execution_count": 27,
   "outputs": [
    {
     "name": "stdout",
     "output_type": "stream",
     "text": [
      "AUC: 0.9648\n",
      "Accuracy: 89.44%\n"
     ]
    },
    {
     "data": {
      "text/plain": "<Figure size 640x480 with 1 Axes>",
      "image/png": "[encoded data removed]"
     },
     "metadata": {},
     "output_type": "display_data"
    }
   ],
   "source": [
    "evaluate_roc(probs, y_test)"
   ],
   "metadata": {
    "collapsed": false,
    "pycharm": {
     "name": "#%%\n"
    }
   }
  },
  {
   "cell_type": "markdown",
   "source": [
    "На тестовых данных тоже получаем неплохую оценку, модель на основе BERT показывает хорошие результаты"
   ],
   "metadata": {
    "collapsed": false,
    "pycharm": {
     "name": "#%% md\n"
    }
   }
  },
  {
   "cell_type": "markdown",
   "source": [
    "Сохраним полученную модель"
   ],
   "metadata": {
    "collapsed": false,
    "pycharm": {
     "name": "#%% md\n"
    }
   }
  },
  {
   "cell_type": "code",
   "execution_count": 40,
   "outputs": [],
   "source": [
    "torch.save(bert_classifier.state_dict(), 'models/bert_classifier.h5')"
   ],
   "metadata": {
    "collapsed": false,
    "pycharm": {
     "name": "#%%\n"
    }
   }
  },
  {
   "cell_type": "markdown",
   "source": [
    "Пример загрузки модели"
   ],
   "metadata": {
    "collapsed": false,
    "pycharm": {
     "name": "#%% md\n"
    }
   }
  },
  {
   "cell_type": "code",
   "execution_count": null,
   "outputs": [],
   "source": [
    "bert_classifier = BertClassifier()\n",
    "bert_classifier.load_state_dict(torch.load('models/bert_classifier.h5'))"
   ],
   "metadata": {
    "collapsed": false,
    "pycharm": {
     "name": "#%%\n"
    }
   }
  }
 ],
 "metadata": {
  "kernelspec": {
   "display_name": "Python 3 (ipykernel)",
   "language": "python",
   "name": "python3"
  },
  "language_info": {
   "codemirror_mode": {
    "name": "ipython",
    "version": 3
   },
   "file_extension": ".py",
   "mimetype": "text/x-python",
   "name": "python",
   "nbconvert_exporter": "python",
   "pygments_lexer": "ipython3",
   "version": "3.11.1"
  }
 },
 "nbformat": 4,
 "nbformat_minor": 5
}