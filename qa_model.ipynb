{
  "nbformat": 4,
  "nbformat_minor": 0,
  "metadata": {
    "colab": {
      "provenance": [],
      "gpuType": "T4"
    },
    "kernelspec": {
      "name": "python3",
      "display_name": "Python 3"
    },
    "language_info": {
      "name": "python"
    },
    "accelerator": "GPU"
  },
  "cells": [
    {
      "cell_type": "markdown",
      "source": [
        "# Промежуточная аттестация. Применение Вопрос-ответного поиска"
      ],
      "metadata": {
        "id": "j50xuvxLIuBN"
      }
    },
    {
      "cell_type": "markdown",
      "source": [
        "Для того чтобы реализовать вопрос-ответную систему, необходимо иметь базу данных, где хранится документация, информация содержащая ответ и тд. Среди нее мы будем искать информацию схожую по какой-либо метрике с поставленным вопросом.\n",
        "\n",
        "Для этого задания потребуется применить какой-нибудь алгоритм для быстрого поиска нужных документов, содержащих что-либо связанной с вопросом. Для этого есть различные варианты, которые уже давно реализованы и даже не связанные с ИИ. Один из них <a href=\"https://en.wikipedia.org/wiki/Okapi_BM25\">Okapi BM25</a>. В кратце это мешок слов с метрикой IDF, в результате чего каждый семпл текста из бд будет иметь свой ранг схожести с входной строкой."
      ],
      "metadata": {
        "id": "dZgbtDoNI-tc"
      }
    },
    {
      "cell_type": "code",
      "source": [
        "!pip install rank_bm25 -q"
      ],
      "metadata": {
        "id": "saRq0Jrg1IEU"
      },
      "execution_count": 84,
      "outputs": []
    },
    {
      "cell_type": "code",
      "execution_count": 85,
      "metadata": {
        "colab": {
          "base_uri": "https://localhost:8080/"
        },
        "id": "4saygCAByXQv",
        "outputId": "06f626d1-017f-4ee5-d398-d06f5e8a25ac"
      },
      "outputs": [
        {
          "output_type": "stream",
          "name": "stderr",
          "text": [
            "[nltk_data] Downloading package stopwords to /root/nltk_data...\n",
            "[nltk_data]   Package stopwords is already up-to-date!\n",
            "[nltk_data] Downloading package punkt to /root/nltk_data...\n",
            "[nltk_data]   Package punkt is already up-to-date!\n"
          ]
        }
      ],
      "source": [
        "import numpy as np\n",
        "import pandas as pd\n",
        "from pathlib import Path, PurePath\n",
        "\n",
        "import nltk\n",
        "nltk.download(['stopwords', 'punkt'])\n",
        "\n",
        "from nltk.corpus import stopwords\n",
        "import re\n",
        "import string\n",
        "import torch\n",
        "\n",
        "from rank_bm25 import BM25Okapi # Search engine"
      ]
    },
    {
      "cell_type": "markdown",
      "source": [
        "Для решения задачи был найден большой датасет, связанный с различной информацией по Covid - статьи, топики на сайтах и прочее (найденный на Kaggle)."
      ],
      "metadata": {
        "id": "T9dJh9GgKsyC"
      }
    },
    {
      "cell_type": "code",
      "source": [
        "from google.colab import drive\n",
        "\n",
        "drive.mount('/content/drive/')\n",
        "PATH_TO_DATA = 'drive/MyDrive'        # изменить на свое расположение"
      ],
      "metadata": {
        "colab": {
          "base_uri": "https://localhost:8080/"
        },
        "id": "9-4K6VquRjV2",
        "outputId": "96dcc194-76c8-4fed-a48f-4451659e58f2"
      },
      "execution_count": 90,
      "outputs": [
        {
          "output_type": "stream",
          "name": "stdout",
          "text": [
            "Drive already mounted at /content/drive/; to attempt to forcibly remount, call drive.mount(\"/content/drive/\", force_remount=True).\n"
          ]
        }
      ]
    },
    {
      "cell_type": "code",
      "source": [
        "metadata_path = f'{PATH_TO_DATA}/covid_metadata.csv'\n",
        "metadata_df = pd.read_csv(metadata_path, low_memory=False)\n",
        "metadata_df = metadata_df.dropna(subset=['abstract', 'title']).reset_index(drop=True)"
      ],
      "metadata": {
        "id": "XOItOe1P0uBw"
      },
      "execution_count": 91,
      "outputs": []
    },
    {
      "cell_type": "markdown",
      "source": [
        "Для удобства создадим класс реализующий движок поиска по всем текстам в датасете, использующий алгоритм Okapi BM25."
      ],
      "metadata": {
        "id": "vpjBEe2TLS1x"
      }
    },
    {
      "cell_type": "code",
      "source": [
        "from rank_bm25 import BM25Okapi\n",
        "\n",
        "english_stopwords = list(set(stopwords.words('english')))\n",
        "\n",
        "class CovidSearchEngine:\n",
        "    def __init__(self, corpus: pd.DataFrame):\n",
        "        self.corpus = corpus\n",
        "        self.columns = corpus.columns\n",
        "\n",
        "        # Объединим введение статьи и содержание\n",
        "        raw_search_str = self.corpus.abstract.fillna('') + ' ' + self.corpus.title.fillna('')\n",
        "\n",
        "        self.index = raw_search_str.apply(self.preprocess).to_frame()\n",
        "        self.index.columns = ['terms']\n",
        "        self.index.index = self.corpus.index\n",
        "        self.bm25 = BM25Okapi(self.index.terms.tolist())\n",
        "\n",
        "    def preprocess(self, text: str) -> list[str]:\n",
        "        # предобработка текста (удаление спец символов, стоп слов, артиклей)\n",
        "        return self.tokenize(self.remove_special_character(text.lower()))\n",
        "\n",
        "    def remove_special_character(self, text: str) -> str:\n",
        "        # удаляем пунктуацию\n",
        "        return text.translate(str.maketrans('', '', string.punctuation))\n",
        "\n",
        "    def tokenize(self, text: str) -> list[str]:\n",
        "        words = nltk.word_tokenize(text)\n",
        "        return list(set([word for word in words\n",
        "                         if len(word) > 1\n",
        "                         and not word in english_stopwords\n",
        "                         and not word.isnumeric()\n",
        "                        ])\n",
        "                   )\n",
        "\n",
        "\n",
        "    def search(self, query: str, num=3) -> pd.DataFrame:\n",
        "        \"\"\"\n",
        "        Метод поиска `num` наиболее подходящих корпусов.\n",
        "        Параметр (опц.) `num` - количество возвращаемых корпусов\n",
        "        \"\"\"\n",
        "        # получаем оценки схожести вопроса и топиков (наибольшее значение - ближе всего)\n",
        "        search_terms = self.preprocess(query)\n",
        "        doc_scores = self.bm25.get_scores(search_terms)\n",
        "\n",
        "        # берем `num` первых подходящих индексов топиков\n",
        "        ind = np.argsort(doc_scores)[::-1][:num]\n",
        "\n",
        "        # извлекаем наиболее подходящие контекст\n",
        "        results = self.corpus.iloc[ind][self.columns]\n",
        "        results['score'] = doc_scores[ind]\n",
        "        results = results[results.score > 0]\n",
        "        return results.reset_index()"
      ],
      "metadata": {
        "id": "26-7l0nmylRN"
      },
      "execution_count": 92,
      "outputs": []
    },
    {
      "cell_type": "code",
      "source": [
        "cse = CovidSearchEngine(metadata_df)"
      ],
      "metadata": {
        "id": "7Nof9g3V0_5z"
      },
      "execution_count": 93,
      "outputs": []
    },
    {
      "cell_type": "code",
      "source": [
        "!pip install transformers -q"
      ],
      "metadata": {
        "id": "y1wdaqcA3jXt"
      },
      "execution_count": 94,
      "outputs": []
    },
    {
      "cell_type": "markdown",
      "source": [
        "Как всегда в Hugging Face уже выложены предобученные модели, основанные на BERT'e для задачи QA (Question Answering). Выберем модель, которая была предобучена на модели <a href=\"https://rajpurkar.github.io/SQuAD-explorer/\">SQuAD</a> (Stanford Question Answering Dataset)."
      ],
      "metadata": {
        "id": "Evk7guJNMe0j"
      }
    },
    {
      "cell_type": "code",
      "source": [
        "import torch\n",
        "from transformers import BertTokenizer\n",
        "from transformers import BertForQuestionAnswering\n",
        "\n",
        "torch_device = 'cuda' if torch.cuda.is_available() else 'cpu'\n",
        "\n",
        "BERT_SQUAD = 'bert-large-uncased-whole-word-masking-finetuned-squad'\n",
        "\n",
        "model = BertForQuestionAnswering.from_pretrained(BERT_SQUAD)\n",
        "tokenizer = BertTokenizer.from_pretrained(BERT_SQUAD)\n",
        "\n",
        "model = model.to(torch_device)\n",
        "model.eval()\n",
        "\n",
        "print()\n"
      ],
      "metadata": {
        "colab": {
          "base_uri": "https://localhost:8080/"
        },
        "id": "TSUbXx472TFb",
        "outputId": "4e8aabc2-532c-43de-8c81-3c6c680a364c"
      },
      "execution_count": 95,
      "outputs": [
        {
          "output_type": "stream",
          "name": "stdout",
          "text": [
            "\n"
          ]
        }
      ]
    },
    {
      "cell_type": "markdown",
      "source": [
        "Обучать модель в данном случае необходимости нет, преобученная BERT-QA модель получает на вход склеенные `input_ids` вопроса и контекста (в тензоре разделяемые через токен `[SEP]`) и выдает два типа логитов: начальные и конечные. По сути их можно интерпретировать как вероятности того, что данный токен является начальным токеном в ответе (конечным токеном соответственно для второго типа). По сути мы получаем два индекса в контексте: начало и конец подстроки ответа, и далее просто конвертируя токены получаем ответ."
      ],
      "metadata": {
        "id": "TTzte-hONBfZ"
      }
    },
    {
      "cell_type": "code",
      "source": [
        "def answer_question(question, context):\n",
        "    encoded_dict = tokenizer.encode_plus(\n",
        "        question,\n",
        "        context,\n",
        "        add_special_tokens=True,\n",
        "        max_length=256,\n",
        "        pad_to_max_length=True,\n",
        "        return_tensors='pt'\n",
        "    )\n",
        "\n",
        "    input_ids = encoded_dict['input_ids'].to(torch_device)\n",
        "    token_type_ids = encoded_dict['token_type_ids'].to(torch_device)\n",
        "\n",
        "    output = model(input_ids, token_type_ids=token_type_ids)\n",
        "\n",
        "    all_tokens = tokenizer.convert_ids_to_tokens(input_ids[0])\n",
        "    start_index = torch.argmax(output.start_logits)\n",
        "    end_index = torch.argmax(output.end_logits)\n",
        "\n",
        "    answer = tokenizer.convert_tokens_to_string(all_tokens[start_index:end_index+1])\n",
        "    answer = answer.replace('[CLS]', '').replace('[SEP]', ' ')\n",
        "    return answer"
      ],
      "metadata": {
        "id": "mLIUZMfx2mnO"
      },
      "execution_count": 96,
      "outputs": []
    },
    {
      "cell_type": "markdown",
      "source": [
        "Для демонстрации необходимо в модель передать вопрос, далее будет выбрано определенное количество корпусов где будет искаться ответ на вопрос (по алгоритмы Okapi BM25) и соответственно будут возвращены ответы соответствующие выбранным корпусам."
      ],
      "metadata": {
        "id": "ExmWrWT9ORkh"
      }
    },
    {
      "cell_type": "code",
      "source": [
        "NUM_CONTEXT_FOR_EACH_QUESTION = 3\n",
        "\n",
        "\n",
        "def get_all_context(query, num_results):\n",
        "    # Находит для данного вопроса `num_results` наиболее подходящих корпусов\n",
        "\n",
        "    papers_df = cse.search(query, num_results)\n",
        "    return papers_df['abstract'].str.replace(\"Abstract\", \"\").tolist()\n",
        "\n",
        "\n",
        "def get_all_answers(question, all_contexts):\n",
        "    # Получение ответов от всех корпусов для данного вопроса\n",
        "\n",
        "    all_answers = []\n",
        "\n",
        "    for context in all_contexts:\n",
        "        all_answers.append(answer_question(question, context))\n",
        "    return all_answers\n",
        "\n",
        "\n",
        "def create_output_results(question,\n",
        "                          all_contexts,\n",
        "                          all_answers,\n",
        "                          summary_answer='',\n",
        "                          summary_context=''):\n",
        "    # Функция формирующая словарь со всеми заданными вопросами и ответами с корпусами\n",
        "    output = {}\n",
        "    output['question'] = question\n",
        "    results = []\n",
        "    for c, a in zip(all_contexts, all_answers):\n",
        "\n",
        "        span = {}\n",
        "        span['context'] = c\n",
        "        span['answer'] = a\n",
        "        results.append(span)\n",
        "\n",
        "    output['results'] = results\n",
        "\n",
        "    return output\n",
        "\n",
        "\n",
        "def get_results(question,\n",
        "                summarize=False,\n",
        "                num_results=NUM_CONTEXT_FOR_EACH_QUESTION,\n",
        "                verbose=True):\n",
        "    # Входная точка демонстрации\n",
        "\n",
        "    all_contexts = get_all_context(question, num_results)\n",
        "\n",
        "    all_answers = get_all_answers(question, all_contexts)\n",
        "\n",
        "    return create_output_results(question,\n",
        "                                 all_contexts,\n",
        "                                 all_answers)"
      ],
      "metadata": {
        "id": "9DNDonxx8-ER"
      },
      "execution_count": 97,
      "outputs": []
    },
    {
      "cell_type": "code",
      "source": [
        "questions =  [\n",
        "    \"How long is the incubation period for the virus?\",\n",
        "    \"Can the virus be transmitted asymptomatically or during the incubation period?\",\n",
        "    \"How does heart disease affect patients?\",\n",
        "    \"How does smoking affect patients?\",\n",
        "    \"How does pregnancy affect patients?\",\n",
        "    \"What is the fatality rate of 2019-nCoV?\",\n",
        "    \"Can animals transmit 2019-nCoV?\",\n",
        "    \"What drugs or therapies are being investigated?\",\n",
        "    \"Are anti-inflammatory drugs recommended?\",\n",
        "    \"What telemedicine and cybercare methods are most effective?\",\n",
        "    \"How is artificial intelligence being used in real time health delivery?\",\n",
        "    \"What adjunctive or supportive methods can help patients?\",\n",
        "    \"What diagnostic tests (tools) exist or are being developed to detect 2019-nCoV?\",\n",
        "    \"What is the immune system response to 2019-nCoV?\",\n",
        "    \"Can 2019-nCoV infect patients a second time?\"\n",
        "]\n"
      ],
      "metadata": {
        "id": "94-P0IxG6bva"
      },
      "execution_count": 98,
      "outputs": []
    },
    {
      "cell_type": "code",
      "source": [
        "all_answers = [get_results(q) for q in questions]"
      ],
      "metadata": {
        "id": "ta8vleI_8_T6"
      },
      "execution_count": 99,
      "outputs": []
    },
    {
      "cell_type": "code",
      "source": [
        "for q in all_answers:\n",
        "    print('-'*42)\n",
        "    print(f'Вопрос: {q[\"question\"]}')\n",
        "    for i, a in enumerate(q['results'], 1):\n",
        "        print(f'Ответ {i}: {a[\"answer\"]}')\n",
        "    print('-'*42)\n",
        ""
      ],
      "metadata": {
        "colab": {
          "base_uri": "https://localhost:8080/"
        },
        "id": "1bhrNdbNBqhi",
        "outputId": "b186aabb-c886-4760-d986-d284c4a4137b"
      },
      "execution_count": 100,
      "outputs": [
        {
          "output_type": "stream",
          "name": "stdout",
          "text": [
            "------------------------------------------\n",
            "Вопрос: How long is the incubation period for the virus?\n",
            "Ответ 1: long\n",
            "Ответ 2: long\n",
            "Ответ 3: 26 days of gestation\n",
            "------------------------------------------\n",
            "------------------------------------------\n",
            "Вопрос: Can the virus be transmitted asymptomatically or during the incubation period?\n",
            "Ответ 1: asymptomatic\n",
            "Ответ 2: asymptomatically\n",
            "Ответ 3: incubation period\n",
            "------------------------------------------\n",
            "------------------------------------------\n",
            "Вопрос: How does heart disease affect patients?\n",
            "Ответ 1: more susceptible\n",
            "Ответ 2: the impact of concomitant cardiovascular disease on severity of covid - 19 was also evaluated . methods : a cross - sectional study was designed on 150 consecutive patients with covid - 19 in the fever clinic of tongji hospital in wuhan from january to february in 2020 , including 126 mild cases and 24 cases in critical care . both univariate and multivariate logistic regression were used to analyze the correlation of past medical history including hypertension , diabetes and coronary heart disease ( chd ) , as well as the levels of serum nt - probnp and ctni to the disease severity of covid - 19 patients . results : age , hypersensitive c - reactive protein ( hs - crp ) and serum creatinine levels of the patients were higher in critical care cases than in mild cases\n",
            "Ответ 3: more likely to worsen\n",
            "------------------------------------------\n",
            "------------------------------------------\n",
            "Вопрос: How does smoking affect patients?\n",
            "Ответ 1: smoking , vitamin d levels , and sunlight exposure are the most relevant\n",
            "Ответ 2: counseling for smoking cessation\n",
            "Ответ 3: no relationship between smoking habit , age , or sex and the presence of inclusion bodies\n",
            "------------------------------------------\n",
            "------------------------------------------\n",
            "Вопрос: How does pregnancy affect patients?\n",
            "Ответ 1: physiological changes and drug compliance during pregnancy can affect asthma control in varying degrees\n",
            "Ответ 2: pregnancy loss , calving rates , and abnormalities in newborn calves\n",
            "Ответ 3: intrauterine infections adversely affect pregnancies and / or neonates\n",
            "------------------------------------------\n",
            "------------------------------------------\n",
            "Вопрос: What is the fatality rate of 2019-nCoV?\n",
            "Ответ 1: 0 . 3 % to 0 . 6 %\n",
            "Ответ 2: 2 . 2 %\n",
            "Ответ 3:  what is the fatality rate of 2019 - ncov ?  \n",
            "------------------------------------------\n",
            "------------------------------------------\n",
            "Вопрос: Can animals transmit 2019-nCoV?\n",
            "Ответ 1: does not readily transmit between humans\n",
            "Ответ 2: they are a potential reservoir of viruses that transmit from wildlife to humans or domestic animals\n",
            "Ответ 3: once they have infected humans they may be asymptomatic or cause disease . if they cause disease , they may maintain their virulence or decrease in virulence with further passage through human populations . while some of these infectious agents transmit easily from human to human\n",
            "------------------------------------------\n",
            "------------------------------------------\n",
            "Вопрос: What drugs or therapies are being investigated?\n",
            "Ответ 1: pro - and anti - angiogenic drugs\n",
            "Ответ 2: kinase inhibitors as host - targeted broad - spectrum antiviral therapies\n",
            "Ответ 3: anti - influenza drugs and traditional chinese medicines\n",
            "------------------------------------------\n",
            "------------------------------------------\n",
            "Вопрос: Are anti-inflammatory drugs recommended?\n",
            "Ответ 1: \n",
            "Ответ 2: maintenance therapy may be possible at less frequent intervals than the initially recommended regimen of 4 times daily\n",
            "Ответ 3: not recommended\n",
            "------------------------------------------\n",
            "------------------------------------------\n",
            "Вопрос: What telemedicine and cybercare methods are most effective?\n",
            "Ответ 1: link patients to specialists\n",
            "Ответ 2: \n",
            "Ответ 3: follow - up management at primary and secondary care hospitals after the patient undergoes surgery or treatment at tertiary care hospitals\n",
            "------------------------------------------\n",
            "------------------------------------------\n",
            "Вопрос: How is artificial intelligence being used in real time health delivery?\n",
            "Ответ 1: \n",
            "Ответ 2:  \n",
            "Ответ 3: find possible treatments\n",
            "------------------------------------------\n",
            "------------------------------------------\n",
            "Вопрос: What adjunctive or supportive methods can help patients?\n",
            "Ответ 1: adjunctive corticosteroids\n",
            "Ответ 2: invasive ventilation\n",
            "Ответ 3: supportive\n",
            "------------------------------------------\n",
            "------------------------------------------\n",
            "Вопрос: What diagnostic tests (tools) exist or are being developed to detect 2019-nCoV?\n",
            "Ответ 1: \n",
            "Ответ 2: a variety of diagnostic immunoassays\n",
            "Ответ 3:  \n",
            "------------------------------------------\n",
            "------------------------------------------\n",
            "Вопрос: What is the immune system response to 2019-nCoV?\n",
            "Ответ 1: distinct from adults\n",
            "Ответ 2: physiological changes\n",
            "Ответ 3: immature immune function\n",
            "------------------------------------------\n",
            "------------------------------------------\n",
            "Вопрос: Can 2019-nCoV infect patients a second time?\n",
            "Ответ 1: \n",
            "Ответ 2: \n",
            "Ответ 3: \n",
            "------------------------------------------\n"
          ]
        }
      ]
    },
    {
      "cell_type": "markdown",
      "source": [
        "По результатам демонстрации видим как и удачные ответы так и неудачные (3 пустых ответа в последнем тесте). Для улучшения предиктов можно увеличить количество сканируемых корпусов либо дообучить модель на данных по вопросам и ответам по Ковид"
      ],
      "metadata": {
        "id": "4fV7vqDoPWvP"
      }
    },
    {
      "cell_type": "markdown",
      "source": [
        "Весь этот функционал также доступен в библиотеке <a href=\"https://github.com/amaiya/ktrain/tree/master\">`ktrain`</a> - обертка над TensorFlow, где на верхнем уровне и с удобным интерфейсом реализованы множество алгоритмо DeepLearning. Посмотрим как справится эта библиотека с той же задачей."
      ],
      "metadata": {
        "id": "N65E-QhcPvfd"
      }
    },
    {
      "cell_type": "code",
      "source": [
        "!pip install ktrain -q"
      ],
      "metadata": {
        "id": "7Q3QQH1BDE0H"
      },
      "execution_count": 101,
      "outputs": []
    },
    {
      "cell_type": "code",
      "source": [
        "metadata_df[\"raw_search_text\"] = metadata_df.abstract.fillna('') + ' ' + metadata_df.title.fillna('')"
      ],
      "metadata": {
        "id": "SyMPlYv-F6-_"
      },
      "execution_count": 102,
      "outputs": []
    },
    {
      "cell_type": "code",
      "source": [
        "import shutil\n",
        "from ktrain.text import SimpleQA\n",
        "\n",
        "\n",
        "INDEXDIR = '/tmp/myindex'\n",
        "try:\n",
        "    shutil.rmtree(INDEXDIR)\n",
        "except FileNotFoundError:\n",
        "    print('OK')\n",
        "except OSError as e:\n",
        "    print(e)\n",
        "except Exception as e:\n",
        "    raise e"
      ],
      "metadata": {
        "id": "7XsytzTiDK-O"
      },
      "execution_count": 103,
      "outputs": []
    },
    {
      "cell_type": "code",
      "source": [
        "docs = metadata_df[\"raw_search_text\"].tolist()"
      ],
      "metadata": {
        "id": "baMIc2j-GEUx"
      },
      "execution_count": 104,
      "outputs": []
    },
    {
      "cell_type": "code",
      "source": [
        "# аналогично классу CovidSearchEngine в данной ячейке создается движок и индексы для быстрого поиска нужных контекстов\n",
        "\n",
        "SimpleQA.initialize_index(INDEXDIR)\n",
        "SimpleQA.index_from_list(\n",
        "    docs,\n",
        "    INDEXDIR,\n",
        "    commit_every=len(docs),\n",
        "    multisegment=True,\n",
        "    procs=4,\n",
        "    breakup_docs=True\n",
        ")"
      ],
      "metadata": {
        "colab": {
          "base_uri": "https://localhost:8080/",
          "height": 17
        },
        "id": "1AFUhJnpDOoe",
        "outputId": "735da0b4-e218-484c-acaa-471b8ae6cb4e"
      },
      "execution_count": 105,
      "outputs": [
        {
          "output_type": "display_data",
          "data": {
            "text/plain": [
              "<IPython.core.display.HTML object>"
            ],
            "text/html": [
              "\n",
              "<style>\n",
              "    /* Turns off some styling */\n",
              "    progress {\n",
              "        /* gets rid of default border in Firefox and Opera. */\n",
              "        border: none;\n",
              "        /* Needs to be in here for Safari polyfill so background images work as expected. */\n",
              "        background-size: auto;\n",
              "    }\n",
              "    progress:not([value]), progress:not([value])::-webkit-progress-bar {\n",
              "        background: repeating-linear-gradient(45deg, #7e7e7e, #7e7e7e 10px, #5c5c5c 10px, #5c5c5c 20px);\n",
              "    }\n",
              "    .progress-bar-interrupted, .progress-bar-interrupted::-webkit-progress-bar {\n",
              "        background: #F44336;\n",
              "    }\n",
              "</style>\n"
            ]
          },
          "metadata": {}
        },
        {
          "output_type": "display_data",
          "data": {
            "text/plain": [
              "<IPython.core.display.HTML object>"
            ],
            "text/html": []
          },
          "metadata": {}
        }
      ]
    },
    {
      "cell_type": "code",
      "source": [
        "# модель создается одной строчкой\n",
        "\n",
        "qa = SimpleQA(INDEXDIR)"
      ],
      "metadata": {
        "id": "1aK1Cs58DQxT"
      },
      "execution_count": 106,
      "outputs": []
    },
    {
      "cell_type": "code",
      "source": [
        "# всё, наконец-то демонстрация!)\n",
        "\n",
        "answers = qa.ask('How long is the incubation period for the virus?')\n",
        "qa.display_answers(answers[:3])"
      ],
      "metadata": {
        "colab": {
          "base_uri": "https://localhost:8080/",
          "height": 230
        },
        "id": "YPm9KcKCDU_I",
        "outputId": "2a1ce418-30db-4779-ad75-481d25ee3b86"
      },
      "execution_count": 107,
      "outputs": [
        {
          "output_type": "display_data",
          "data": {
            "text/plain": [
              "<IPython.core.display.HTML object>"
            ],
            "text/html": [
              "\n",
              "<style>\n",
              "    /* Turns off some styling */\n",
              "    progress {\n",
              "        /* gets rid of default border in Firefox and Opera. */\n",
              "        border: none;\n",
              "        /* Needs to be in here for Safari polyfill so background images work as expected. */\n",
              "        background-size: auto;\n",
              "    }\n",
              "    progress:not([value]), progress:not([value])::-webkit-progress-bar {\n",
              "        background: repeating-linear-gradient(45deg, #7e7e7e, #7e7e7e 10px, #5c5c5c 10px, #5c5c5c 20px);\n",
              "    }\n",
              "    .progress-bar-interrupted, .progress-bar-interrupted::-webkit-progress-bar {\n",
              "        background: #F44336;\n",
              "    }\n",
              "</style>\n"
            ]
          },
          "metadata": {}
        },
        {
          "output_type": "display_data",
          "data": {
            "text/plain": [
              "<IPython.core.display.HTML object>"
            ],
            "text/html": []
          },
          "metadata": {}
        },
        {
          "output_type": "display_data",
          "data": {
            "text/plain": [
              "<IPython.core.display.HTML object>"
            ],
            "text/html": [
              "<table border=\"1\" class=\"dataframe\">\n",
              "  <thead>\n",
              "    <tr style=\"text-align: right;\">\n",
              "      <th></th>\n",
              "      <th>Candidate Answer</th>\n",
              "      <th>Context</th>\n",
              "      <th>Confidence</th>\n",
              "      <th>Document Reference</th>\n",
              "    </tr>\n",
              "  </thead>\n",
              "  <tbody>\n",
              "    <tr>\n",
              "      <th>0</th>\n",
              "      <td>is the delay from infection until onset of symptoms</td>\n",
              "      <td><div> the incubation period  <font color='red'>is the delay from infection until onset of symptoms</font> , and varies from person to person.</div></td>\n",
              "      <td>0.782764</td>\n",
              "      <td>16601</td>\n",
              "    </tr>\n",
              "    <tr>\n",
              "      <th>1</th>\n",
              "      <td>: 21 days</td>\n",
              "      <td><div>background  <font color='red'>: 21 days</font>  has been regarded as the appropriate quarantine period for holding individuals potentially exposed to ebola virus (ev) to reduce risk of contagion.</div></td>\n",
              "      <td>0.141524</td>\n",
              "      <td>15194</td>\n",
              "    </tr>\n",
              "    <tr>\n",
              "      <th>2</th>\n",
              "      <td>a short</td>\n",
              "      <td><div>the wells – riley equation for modelling airborne infection in indoor environments is incorporated into an seir epidemic model with  <font color='red'>a short</font>  incubation period to simulate the transmission dynamics of airborne infectious diseases in ventilated rooms.</div></td>\n",
              "      <td>0.046417</td>\n",
              "      <td>30864</td>\n",
              "    </tr>\n",
              "  </tbody>\n",
              "</table>"
            ]
          },
          "metadata": {}
        }
      ]
    },
    {
      "cell_type": "markdown",
      "source": [
        "Вопроса про инкубационный период: коротко и понятно 😆"
      ],
      "metadata": {
        "id": "8FjGRoTITjjE"
      }
    },
    {
      "cell_type": "code",
      "source": [
        "answers = qa.ask('What is the fatality rate of 2019-nCoV?')\n",
        "qa.display_answers(answers[:3])"
      ],
      "metadata": {
        "colab": {
          "base_uri": "https://localhost:8080/",
          "height": 178
        },
        "id": "Zi18w5wvHNQi",
        "outputId": "a1b4fbc7-4550-4f85-bbce-abf0e399c61d"
      },
      "execution_count": 74,
      "outputs": [
        {
          "output_type": "display_data",
          "data": {
            "text/plain": [
              "<IPython.core.display.HTML object>"
            ],
            "text/html": [
              "\n",
              "<style>\n",
              "    /* Turns off some styling */\n",
              "    progress {\n",
              "        /* gets rid of default border in Firefox and Opera. */\n",
              "        border: none;\n",
              "        /* Needs to be in here for Safari polyfill so background images work as expected. */\n",
              "        background-size: auto;\n",
              "    }\n",
              "    progress:not([value]), progress:not([value])::-webkit-progress-bar {\n",
              "        background: repeating-linear-gradient(45deg, #7e7e7e, #7e7e7e 10px, #5c5c5c 10px, #5c5c5c 20px);\n",
              "    }\n",
              "    .progress-bar-interrupted, .progress-bar-interrupted::-webkit-progress-bar {\n",
              "        background: #F44336;\n",
              "    }\n",
              "</style>\n"
            ]
          },
          "metadata": {}
        },
        {
          "output_type": "display_data",
          "data": {
            "text/plain": [
              "<IPython.core.display.HTML object>"
            ],
            "text/html": []
          },
          "metadata": {}
        },
        {
          "output_type": "display_data",
          "data": {
            "text/plain": [
              "<IPython.core.display.HTML object>"
            ],
            "text/html": [
              "<table border=\"1\" class=\"dataframe\">\n",
              "  <thead>\n",
              "    <tr style=\"text-align: right;\">\n",
              "      <th></th>\n",
              "      <th>Candidate Answer</th>\n",
              "      <th>Context</th>\n",
              "      <th>Confidence</th>\n",
              "      <th>Document Reference</th>\n",
              "    </tr>\n",
              "  </thead>\n",
              "  <tbody>\n",
              "    <tr>\n",
              "      <th>0</th>\n",
              "      <td>therefore 0. 3 % to 0. 6 %</td>\n",
              "      <td><div> the infection fatality risk (ifr) — the actual risk of death among all infected individuals — is  <font color='red'>therefore 0. 3 % to 0. 6 %</font> , which may be comparable to asian influenza pandemic of 1957 – 1958.</div></td>\n",
              "      <td>0.849170</td>\n",
              "      <td>38107</td>\n",
              "    </tr>\n",
              "    <tr>\n",
              "      <th>1</th>\n",
              "      <td>is 2. 2 %</td>\n",
              "      <td><div> according to the released news, the case rate fatality  <font color='red'>is 2. 2 %</font>  (170 / 7824).</div></td>\n",
              "      <td>0.077169</td>\n",
              "      <td>35425</td>\n",
              "    </tr>\n",
              "    <tr>\n",
              "      <th>2</th>\n",
              "      <td>from 2 to 3 %</td>\n",
              "      <td><div> the case fatality rate is estimated to range  <font color='red'>from 2 to 3 %</font> .</div></td>\n",
              "      <td>0.059859</td>\n",
              "      <td>37640</td>\n",
              "    </tr>\n",
              "  </tbody>\n",
              "</table>"
            ]
          },
          "metadata": {}
        }
      ]
    },
    {
      "cell_type": "markdown",
      "source": [
        "Вопрос про смертельные риски: Тут вроде все ок!"
      ],
      "metadata": {
        "id": "ggRstkRHTZao"
      }
    },
    {
      "cell_type": "code",
      "source": [
        "answers = qa.ask('Can 2019-nCoV infect patients a second time?')\n",
        "qa.display_answers(answers[:3])"
      ],
      "metadata": {
        "colab": {
          "base_uri": "https://localhost:8080/",
          "height": 17
        },
        "id": "uGPuZqukRLQA",
        "outputId": "e25be7ed-c6e2-4c2d-a6d8-1fae8ae38298"
      },
      "execution_count": 83,
      "outputs": [
        {
          "output_type": "display_data",
          "data": {
            "text/plain": [
              "<IPython.core.display.HTML object>"
            ],
            "text/html": [
              "\n",
              "<style>\n",
              "    /* Turns off some styling */\n",
              "    progress {\n",
              "        /* gets rid of default border in Firefox and Opera. */\n",
              "        border: none;\n",
              "        /* Needs to be in here for Safari polyfill so background images work as expected. */\n",
              "        background-size: auto;\n",
              "    }\n",
              "    progress:not([value]), progress:not([value])::-webkit-progress-bar {\n",
              "        background: repeating-linear-gradient(45deg, #7e7e7e, #7e7e7e 10px, #5c5c5c 10px, #5c5c5c 20px);\n",
              "    }\n",
              "    .progress-bar-interrupted, .progress-bar-interrupted::-webkit-progress-bar {\n",
              "        background: #F44336;\n",
              "    }\n",
              "</style>\n"
            ]
          },
          "metadata": {}
        },
        {
          "output_type": "display_data",
          "data": {
            "text/plain": [
              "<IPython.core.display.HTML object>"
            ],
            "text/html": []
          },
          "metadata": {}
        }
      ]
    },
    {
      "cell_type": "markdown",
      "source": [
        "Увы и этот движок не смог найти ответы, что намекает на дообучение, изменение архитектуры модели или алгоритма."
      ],
      "metadata": {
        "id": "YnG9HUaZRTNf"
      }
    }
  ]
}