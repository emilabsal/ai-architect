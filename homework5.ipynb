{
  "nbformat": 4,
  "nbformat_minor": 0,
  "metadata": {
    "colab": {
      "provenance": []
    },
    "kernelspec": {
      "name": "python3",
      "display_name": "Python 3"
    },
    "language_info": {
      "name": "python"
    }
  },
  "cells": [
    {
      "cell_type": "code",
      "execution_count": 3,
      "metadata": {
        "colab": {
          "base_uri": "https://localhost:8080/"
        },
        "id": "VorNfKghRWiO",
        "outputId": "f1ad251d-db0b-4c98-e87b-0557d93e51ce"
      },
      "outputs": [
        {
          "output_type": "stream",
          "name": "stdout",
          "text": [
            "Mounted at /content/drive\n"
          ]
        }
      ],
      "source": [
        "from google.colab import drive\n",
        "drive.mount('/content/drive')"
      ]
    },
    {
      "cell_type": "code",
      "source": [
        "import pandas as pd\n"
      ],
      "metadata": {
        "id": "MBIsI0-vY0RQ"
      },
      "execution_count": 4,
      "outputs": []
    },
    {
      "cell_type": "code",
      "source": [
        "Titanic = pd.read_csv('/content/drive/MyDrive/dataset/Titanic-Dataset.csv')\n",
        "Titanic.info()"
      ],
      "metadata": {
        "id": "vpqUlWYDa4dR"
      },
      "execution_count": null,
      "outputs": []
    },
    {
      "cell_type": "markdown",
      "source": [
        "Не получилось взять данные из csf, гуглешь не помог, так как ошибка упирается в путь файоа, но он верный.... Поэтому создал собственные тестовые условия\n"
      ],
      "metadata": {
        "id": "KFOfpYJCh6U1"
      }
    },
    {
      "cell_type": "code",
      "source": [
        "data = {\n",
        "    'Survived': [1, 0, 1, 0, 1],\n",
        "    'Pclass': [1, 2, 3, 1, 3],\n",
        "    'Name': ['John Smith', 'Jane Doe', 'Michael Johnson', 'Emily Brown', 'David Wilson'],\n",
        "    'Sex': ['male', 'female', 'male', 'female', 'male'],\n",
        "    'Age': [30, 25, 40, 35, 20],\n",
        "    'SibSp': [1, 0, 1, 0, 0],\n",
        "    'Parch': [0, 1, 2, 0, 0],\n",
        "    'Ticket': ['A1234', 'B5678', 'C91011', 'D1213', 'E1415'],\n",
        "    'Fare': [100.50, 50.25, 75.75, 200.00, 30.50],\n",
        "    'Cabin': ['A1', 'B2', 'C3', 'D4', 'E5'],\n",
        "    'Embarked': ['S', 'C', 'S', 'S', 'C']\n",
        "}\n",
        "\n",
        "df = pd.DataFrame(data)\n",
        "print(df)"
      ],
      "metadata": {
        "colab": {
          "base_uri": "https://localhost:8080/"
        },
        "id": "qQNlTm41gV-Y",
        "outputId": "872e3df6-b19a-4179-af74-013a5f40cc37"
      },
      "execution_count": 12,
      "outputs": [
        {
          "output_type": "stream",
          "name": "stdout",
          "text": [
            "   Survived  Pclass             Name     Sex  Age  SibSp  Parch  Ticket  \\\n",
            "0         1       1       John Smith    male   30      1      0   A1234   \n",
            "1         0       2         Jane Doe  female   25      0      1   B5678   \n",
            "2         1       3  Michael Johnson    male   40      1      2  C91011   \n",
            "3         0       1      Emily Brown  female   35      0      0   D1213   \n",
            "4         1       3     David Wilson    male   20      0      0   E1415   \n",
            "\n",
            "     Fare Cabin Embarked  \n",
            "0  100.50    A1        S  \n",
            "1   50.25    B2        C  \n",
            "2   75.75    C3        S  \n",
            "3  200.00    D4        S  \n",
            "4   30.50    E5        C  \n"
          ]
        }
      ]
    },
    {
      "cell_type": "code",
      "source": [
        "print(df.isnull().sum())"
      ],
      "metadata": {
        "colab": {
          "base_uri": "https://localhost:8080/"
        },
        "id": "L4Y_e3h2hf_I",
        "outputId": "aa25581f-6bef-41b0-81ed-1e589c4ad4d1"
      },
      "execution_count": 13,
      "outputs": [
        {
          "output_type": "stream",
          "name": "stdout",
          "text": [
            "Survived    0\n",
            "Pclass      0\n",
            "Name        0\n",
            "Sex         0\n",
            "Age         0\n",
            "SibSp       0\n",
            "Parch       0\n",
            "Ticket      0\n",
            "Fare        0\n",
            "Cabin       0\n",
            "Embarked    0\n",
            "dtype: int64\n"
          ]
        }
      ]
    },
    {
      "cell_type": "code",
      "source": [
        "df = df.dropna()\n",
        "print(df)"
      ],
      "metadata": {
        "colab": {
          "base_uri": "https://localhost:8080/"
        },
        "id": "mPPmqQxchpcl",
        "outputId": "c1a6054a-b4ca-457f-e004-0a27e0212336"
      },
      "execution_count": 14,
      "outputs": [
        {
          "output_type": "stream",
          "name": "stdout",
          "text": [
            "   Survived  Pclass             Name     Sex  Age  SibSp  Parch  Ticket  \\\n",
            "0         1       1       John Smith    male   30      1      0   A1234   \n",
            "1         0       2         Jane Doe  female   25      0      1   B5678   \n",
            "2         1       3  Michael Johnson    male   40      1      2  C91011   \n",
            "3         0       1      Emily Brown  female   35      0      0   D1213   \n",
            "4         1       3     David Wilson    male   20      0      0   E1415   \n",
            "\n",
            "     Fare Cabin Embarked  \n",
            "0  100.50    A1        S  \n",
            "1   50.25    B2        C  \n",
            "2   75.75    C3        S  \n",
            "3  200.00    D4        S  \n",
            "4   30.50    E5        C  \n"
          ]
        }
      ]
    },
    {
      "cell_type": "code",
      "source": [
        "print(\"Кол-во уникальных значений:\")\n",
        "print(df.nunique())"
      ],
      "metadata": {
        "colab": {
          "base_uri": "https://localhost:8080/"
        },
        "id": "_JGlD_PhiYn0",
        "outputId": "1fffab42-3332-4484-bf00-c0712a564d1d"
      },
      "execution_count": 15,
      "outputs": [
        {
          "output_type": "stream",
          "name": "stdout",
          "text": [
            "Кол-во уникальных значений:\n",
            "Survived    2\n",
            "Pclass      3\n",
            "Name        5\n",
            "Sex         2\n",
            "Age         5\n",
            "SibSp       2\n",
            "Parch       3\n",
            "Ticket      5\n",
            "Fare        5\n",
            "Cabin       5\n",
            "Embarked    2\n",
            "dtype: int64\n"
          ]
        }
      ]
    },
    {
      "cell_type": "code",
      "source": [
        "print(df.min())"
      ],
      "metadata": {
        "colab": {
          "base_uri": "https://localhost:8080/"
        },
        "id": "Im4R559eij1K",
        "outputId": "cd161c06-2013-4bcd-a49e-66f0313d9431"
      },
      "execution_count": 17,
      "outputs": [
        {
          "output_type": "stream",
          "name": "stdout",
          "text": [
            "Survived               0\n",
            "Pclass                 1\n",
            "Name        David Wilson\n",
            "Sex               female\n",
            "Age                   20\n",
            "SibSp                  0\n",
            "Parch                  0\n",
            "Ticket             A1234\n",
            "Fare                30.5\n",
            "Cabin                 A1\n",
            "Embarked               C\n",
            "dtype: object\n"
          ]
        }
      ]
    },
    {
      "cell_type": "code",
      "source": [
        "print(df.max())"
      ],
      "metadata": {
        "colab": {
          "base_uri": "https://localhost:8080/"
        },
        "id": "AoZ03P14it_8",
        "outputId": "4ccf4cc2-5af6-45b0-9a87-37537473fd42"
      },
      "execution_count": 18,
      "outputs": [
        {
          "output_type": "stream",
          "name": "stdout",
          "text": [
            "Survived                  1\n",
            "Pclass                    3\n",
            "Name        Michael Johnson\n",
            "Sex                    male\n",
            "Age                      40\n",
            "SibSp                     1\n",
            "Parch                     2\n",
            "Ticket                E1415\n",
            "Fare                  200.0\n",
            "Cabin                    E5\n",
            "Embarked                  S\n",
            "dtype: object\n"
          ]
        }
      ]
    }
  ]
}